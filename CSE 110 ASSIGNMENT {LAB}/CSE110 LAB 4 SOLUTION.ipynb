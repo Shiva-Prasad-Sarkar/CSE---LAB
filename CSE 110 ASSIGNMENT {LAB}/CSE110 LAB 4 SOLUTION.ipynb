{
  "cells": [
    {
      "cell_type": "code",
      "execution_count": null,
      "metadata": {
        "colab": {
          "base_uri": "https://localhost:8080/"
        },
        "id": "cOXfgCcSBaUy",
        "outputId": "8c08087e-04cc-4f98-a695-9c4f29ae5ea7"
      },
      "outputs": [
        {
          "name": "stdout",
          "output_type": "stream",
          "text": [
            "12\n",
            "21\n"
          ]
        }
      ],
      "source": [
        "#1\n",
        "st=input()\n",
        "print(st[::-1])"
      ]
    },
    {
      "cell_type": "code",
      "execution_count": null,
      "metadata": {
        "colab": {
          "base_uri": "https://localhost:8080/"
        },
        "id": "cYbb5KR7LjLM",
        "outputId": "9a69df1f-dc13-4d5e-b30a-a4ce53b2a847"
      },
      "outputs": [
        {
          "name": "stdout",
          "output_type": "stream",
          "text": [
            "cs456\n",
            "654sc"
          ]
        }
      ],
      "source": [
        "#1\n",
        "st=input()\n",
        "for i in range(len(st)-1,-1,-1):\n",
        "  print(st[i],end='')"
      ]
    },
    {
      "cell_type": "code",
      "execution_count": null,
      "metadata": {
        "colab": {
          "base_uri": "https://localhost:8080/"
        },
        "id": "BXVWxSASftMI",
        "outputId": "1f09507a-723f-4d52-fef9-6f21efdc4414"
      },
      "outputs": [
        {
          "name": "stdout",
          "output_type": "stream",
          "text": [
            "jhk\n",
            "khj"
          ]
        }
      ],
      "source": [
        "#1\n",
        "st=input()\n",
        "for i in range(-1,-len(st)-1,-1):\n",
        "  print(st[i],end='')"
      ]
    },
    {
      "cell_type": "code",
      "execution_count": null,
      "metadata": {
        "colab": {
          "base_uri": "https://localhost:8080/"
        },
        "id": "LKl383W9QEuq",
        "outputId": "fa3f6711-6555-471e-92c4-7b32d148e703"
      },
      "outputs": [
        {
          "name": "stdout",
          "output_type": "stream",
          "text": [
            "abcde\n",
            "number3\n",
            "dcbae\n"
          ]
        }
      ],
      "source": [
        "#2\n",
        "st=input()\n",
        "num=int(input('number'))\n",
        "c=''\n",
        "for i in range(num,-1,-1):\n",
        "  c+=st[i]\n",
        "print(c+st[num+1::])"
      ]
    },
    {
      "cell_type": "code",
      "execution_count": null,
      "metadata": {
        "colab": {
          "base_uri": "https://localhost:8080/"
        },
        "id": "7afvNf4RUSVA",
        "outputId": "ccd909b8-12f4-4b25-fe96-6c5e34ff964c"
      },
      "outputs": [
        {
          "name": "stdout",
          "output_type": "stream",
          "text": [
            "12345\n",
            "number2\n",
            "32145\n"
          ]
        }
      ],
      "source": [
        "#2\n",
        "st=input()\n",
        "num=int(input('number'))\n",
        "print(st[num::-1]+st[num+1::])\n"
      ]
    },
    {
      "cell_type": "code",
      "execution_count": null,
      "metadata": {
        "colab": {
          "base_uri": "https://localhost:8080/"
        },
        "id": "She6G9NGYQdA",
        "outputId": "50fc78c2-f03b-419d-c001-c60ad0dbafd0"
      },
      "outputs": [
        {
          "name": "stdout",
          "output_type": "stream",
          "text": [
            "101011\n",
            "Binary Number\n"
          ]
        }
      ],
      "source": [
        "#3\n",
        "string=input()\n",
        "binary=True\n",
        "for i in string:\n",
        "  if i!='0' and i!='1':\n",
        "    binary=False\n",
        "    break\n",
        "if binary:\n",
        "  print('Binary Number')\n",
        "else:\n",
        "  print('Not a Binary Number')"
      ]
    },
    {
      "cell_type": "code",
      "execution_count": null,
      "metadata": {
        "colab": {
          "base_uri": "https://localhost:8080/"
        },
        "id": "YNeerje6MSuz",
        "outputId": "29c51893-4de6-477d-bb63-c0df32387f8b"
      },
      "outputs": [
        {
          "name": "stdout",
          "output_type": "stream",
          "text": [
            "stronger\n",
            "strongest\n"
          ]
        }
      ],
      "source": [
        "#4\n",
        "a=input()\n",
        "if len(a)<4:\n",
        "    print(a)\n",
        "elif len(a)>3:\n",
        "    if (a[len(a)-2:len(a):])=='er':\n",
        "        print(a[0:len(a)-2:]+'est')\n",
        "    elif (a[len(a)-3:len(a):])=='est':\n",
        "        print(a)\n",
        "    else:\n",
        "        print(a+'er')"
      ]
    },
    {
      "cell_type": "code",
      "execution_count": null,
      "metadata": {
        "id": "KGQ2pXoHcRQa"
      },
      "outputs": [],
      "source": [
        "#palindrome\n",
        "s1= input(\"Please enter a value: \")\n",
        "start =0\n",
        "end = len(s1) - 1\n",
        "check = True\n",
        "for i in range(len(s1)//2):\n",
        "    if(s1[start] == s1[end]):\n",
        "        start += 1\n",
        "        end -= 1\n",
        "    else:\n",
        "        check = False\n",
        "        break\n",
        "if (check == True):\n",
        "    print(\"Palindrome\")\n",
        "else:\n",
        "    print(\"Not a Palindrome\")"
      ]
    },
    {
      "cell_type": "code",
      "execution_count": null,
      "metadata": {
        "colab": {
          "base_uri": "https://localhost:8080/"
        },
        "id": "dwhXhqXRMnHb",
        "outputId": "906c7736-a369-47ed-b68f-98a51226e6c9"
      },
      "outputs": [
        {
          "name": "stdout",
          "output_type": "stream",
          "text": [
            "entermalayalam\n",
            "palindrome\n"
          ]
        }
      ],
      "source": [
        "#palindrome\n",
        "a=input('enter')\n",
        "b=(a[::])\n",
        "c=(a[::-1])\n",
        "if b==c:\n",
        "  print('palindrome')\n",
        "else:\n",
        "  print('not palindroome')\n"
      ]
    },
    {
      "cell_type": "code",
      "execution_count": null,
      "metadata": {
        "colab": {
          "base_uri": "https://localhost:8080/"
        },
        "id": "ovcrUggPZk5q",
        "outputId": "05c647bc-03ef-44e6-c71a-19744897a34f"
      },
      "outputs": [
        {
          "name": "stdout",
          "output_type": "stream",
          "text": [
            "enter a stringBANGLA\n",
            "B\n",
            "BA\n",
            "BAN\n",
            "BANG\n",
            "BANGL\n",
            "BANGLA\n"
          ]
        }
      ],
      "source": [
        "#5\n",
        "string=input('enter a string')\n",
        "for i in range(0,len(string),1):\n",
        "  print(string[0:i+1:1])"
      ]
    },
    {
      "cell_type": "code",
      "execution_count": null,
      "metadata": {
        "colab": {
          "base_uri": "https://localhost:8080/"
        },
        "id": "RslunBU0dTam",
        "outputId": "e8dc80f7-e9bb-4d62-a260-02e45d394545"
      },
      "outputs": [
        {
          "name": "stdout",
          "output_type": "stream",
          "text": [
            "enter a stringBANGLA\n",
            "BANGLA\n",
            "BANGL\n",
            "BANG\n",
            "BAN\n",
            "BA\n",
            "B\n"
          ]
        }
      ],
      "source": [
        "#1/5\n",
        "string=input('enter a string')\n",
        "for i in range(len(string)-1,-1,-1):\n",
        "  print(string[0:i+1:1])"
      ]
    },
    {
      "cell_type": "code",
      "execution_count": null,
      "metadata": {
        "colab": {
          "base_uri": "https://localhost:8080/"
        },
        "id": "_zTC3yCCivlf",
        "outputId": "519a0490-632f-4ac9-f5a4-692e9dd08594"
      },
      "outputs": [
        {
          "name": "stdout",
          "output_type": "stream",
          "text": [
            "enter sps\n",
            "s : 115\n",
            "p : 112\n",
            "s : 115\n"
          ]
        }
      ],
      "source": [
        "#6\n",
        "a=input('enter ')\n",
        "for i in range(0,len(a),1):\n",
        "  print((a[i]),':',ord(a[i]))"
      ]
    },
    {
      "cell_type": "code",
      "execution_count": null,
      "metadata": {
        "colab": {
          "base_uri": "https://localhost:8080/"
        },
        "id": "EiUHFNAdlApb",
        "outputId": "cfabf40a-0f82-4420-d7cb-491470aae3fb"
      },
      "outputs": [
        {
          "name": "stdout",
          "output_type": "stream",
          "text": [
            "enter: Programming\n",
            "P : 80\n",
            "r : 114\n",
            "o : 111\n",
            "g : 103\n",
            "r : 114\n",
            "a : 97\n",
            "m : 109\n",
            "m : 109\n",
            "i : 105\n",
            "n : 110\n",
            "g : 103\n"
          ]
        }
      ],
      "source": [
        "#6\n",
        "a=input('enter: ')\n",
        "for i in a:\n",
        "  print(i,':',ord(i))"
      ]
    },
    {
      "cell_type": "code",
      "execution_count": null,
      "metadata": {
        "colab": {
          "base_uri": "https://localhost:8080/"
        },
        "id": "A-Xp-7weMQXC",
        "outputId": "d8a9f1f3-c939-48ec-dd88-8ca18c301dfd"
      },
      "outputs": [
        {
          "name": "stdout",
          "output_type": "stream",
          "text": [
            "stringProgramming\n",
            "Qsphsbnnjoh"
          ]
        }
      ],
      "source": [
        "#7\n",
        "a=input('string')\n",
        "for i in a:\n",
        "  print(chr(ord(i)+1),end='')"
      ]
    },
    {
      "cell_type": "code",
      "execution_count": null,
      "metadata": {
        "colab": {
          "base_uri": "https://localhost:8080/"
        },
        "id": "GQrpjJ4jbW2T",
        "outputId": "38904b34-ee00-4741-b1ac-e83ce005ec25"
      },
      "outputs": [
        {
          "name": "stdout",
          "output_type": "stream",
          "text": [
            "abcd\n",
            "BD"
          ]
        }
      ],
      "source": [
        "#8\n",
        "a=input()\n",
        "for i in range(1,len(a),2):\n",
        "  c=0\n",
        "  temp = ord(a[i])\n",
        "  if temp>=65 and temp<=90:\n",
        "    print(chr(temp),end='')\n",
        "  elif temp>=97 and temp<=122: \n",
        "    c=(temp-32)\n",
        "    print(chr(c),end='')   \n"
      ]
    },
    {
      "cell_type": "code",
      "execution_count": null,
      "metadata": {
        "colab": {
          "base_uri": "https://localhost:8080/"
        },
        "id": "51ODYcw_vc7M",
        "outputId": "0e4b830f-0216-4f97-f044-f62963d10702"
      },
      "outputs": [
        {
          "name": "stdout",
          "output_type": "stream",
          "text": [
            "aaaaasdadesfr\n",
            "asdadesfr\n"
          ]
        }
      ],
      "source": [
        "#9\n",
        "a=input()\n",
        "c=''\n",
        "d=''\n",
        "for i in a:\n",
        "  if i!=c:\n",
        "    d+=i\n",
        "    c=i\n",
        "print(d)\n",
        "\n",
        "\n"
      ]
    },
    {
      "cell_type": "code",
      "execution_count": null,
      "metadata": {
        "colab": {
          "base_uri": "https://localhost:8080/"
        },
        "id": "i99h92GRD599",
        "outputId": "4c54f182-579d-43d9-8fda-06a7da99b08e"
      },
      "outputs": [
        {
          "name": "stdout",
          "output_type": "stream",
          "text": [
            "123, ghjk\n",
            "1g2h3jk\n"
          ]
        }
      ],
      "source": [
        "#10\n",
        "usr=input()\n",
        "s1=\"\"\n",
        "s2=\"\"\n",
        "for i in range(0,len(usr)):\n",
        "  if((usr[i])==\",\"):\n",
        "    s2+=usr[i+2:len(usr)]\n",
        "    break\n",
        "  else:\n",
        "    s1+=usr[i]\n",
        "\n",
        "mixed=\"\"\n",
        "left=\"\"\n",
        "\n",
        "if len(s1)<len(s2):\n",
        "    left5=s2[len(s1):len(s2)]\n",
        "    x = len(s1)\n",
        "elif len(s2)<len(s1):\n",
        "    left=s1[len(s2):len(s1)]\n",
        "    x = len(s2)\n",
        "else:\n",
        "    x =len(s1)\n",
        "\n",
        "for i in range(0,x):\n",
        "    mixed=mixed+s1[i]+s2[i]\n",
        "mixed+=left\n",
        "\n",
        "print(mixed)"
      ]
    },
    {
      "cell_type": "code",
      "execution_count": null,
      "metadata": {
        "id": "HVTPmShWbQut"
      },
      "outputs": [],
      "source": [
        "#task - 16\n",
        "s = input(\"enter a string: \")\n",
        "l = input(\"enter a letter: \")\n",
        "new_string = \"\"\n",
        "for i in s:\n",
        "  if i != l:\n",
        "    new_string += i\n",
        "if l not in s and len(s) > 3:\n",
        "  new_string = s[1:-1]\n",
        "print(new_string)"
      ]
    },
    {
      "cell_type": "code",
      "execution_count": null,
      "metadata": {
        "id": "UbhWKthRbXLY"
      },
      "outputs": [],
      "source": [
        "#task - 17\n",
        "s = input(\"enter string: \")\n",
        "l = input(\"enter the split character: \")\n",
        "s1 = \"\"\n",
        "for i in range(len(s)):\n",
        "  if s[i] != l:\n",
        "    s1 += s[i]\n",
        "  elif s[i] == l:\n",
        "    print(s1)\n",
        "    s1 = \"\"\n",
        "print(s1)"
      ]
    },
    {
      "cell_type": "code",
      "execution_count": null,
      "metadata": {
        "id": "rT6Oru0xba-G"
      },
      "outputs": [],
      "source": [
        "#task - 18\n",
        "s = input(\"enter a string: \")\n",
        "n = int(input(\"enter number: \"))\n",
        "if n%2 == 0:\n",
        "  print(s * (n*2))\n",
        "else:\n",
        "  print(s * (n*3))"
      ]
    },
    {
      "cell_type": "code",
      "execution_count": null,
      "metadata": {
        "id": "kIpH5pHVZes9"
      },
      "outputs": [],
      "source": [
        "#19\n",
        "a=input()\n",
        "c=0\n",
        "for i in range(0,len(a)):\n",
        "    if (ord(a[i])>=ord('a') and ord(a[i])<=ord('z')) or (ord(a[i])>=ord('A') and ord(a[i])<=ord('Z')):\n",
        "        c+=1\n",
        "    \n",
        "        \n",
        "        if c%2!=0:\n",
        "            if (ord(a[i])>=ord('a') and ord(a[i])<=ord('z')):\n",
        "                print(chr((ord(a[i])-32)),end='')\n",
        "            else:\n",
        "                print(a[i],end='')\n",
        "                \n",
        "        if c%2==0: \n",
        "            if (ord(a[i])>=ord('A') and ord(a[i])<=ord('Z')):\n",
        "                print(chr((ord(a[i])+32)),end='')\n",
        "            else:\n",
        "                print(a[i],end='')\n",
        "                \n",
        "    else:\n",
        "        print(a[i],end='')\n",
        "        c=c+0"
      ]
    },
    {
      "cell_type": "code",
      "execution_count": null,
      "metadata": {},
      "outputs": [],
      "source": [
        "a=input()\n",
        "c=''\n",
        "d=''\n",
        "for i in range(len(a)):\n",
        "    if (ord(a[0])>=ord('a') and ord(a[0])<=ord('z')):\n",
        "        d=chr(ord(a[0])-32)\n",
        "    else:\n",
        "        d=a[0]\n",
        "print(d)  "
      ]
    }
  ],
  "metadata": {
    "colab": {
      "provenance": []
    },
    "kernelspec": {
      "display_name": "Python 3",
      "name": "python3"
    },
    "language_info": {
      "name": "python"
    }
  },
  "nbformat": 4,
  "nbformat_minor": 0
}
