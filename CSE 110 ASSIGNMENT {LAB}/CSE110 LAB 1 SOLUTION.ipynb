{
 "cells": [
  {
   "cell_type": "code",
   "execution_count": 1,
   "id": "f11ee2da",
   "metadata": {},
   "outputs": [
    {
     "name": "stdout",
     "output_type": "stream",
     "text": [
      "hello world\n"
     ]
    }
   ],
   "source": [
    "#1\n",
    "print(\"hello world\")"
   ]
  },
  {
   "cell_type": "code",
   "execution_count": 2,
   "id": "f62df454",
   "metadata": {},
   "outputs": [
    {
     "name": "stdout",
     "output_type": "stream",
     "text": [
      "110\n"
     ]
    }
   ],
   "source": [
    "#2\n",
    "print(54+56)"
   ]
  },
  {
   "cell_type": "code",
   "execution_count": 36,
   "id": "820a4207",
   "metadata": {
    "scrolled": true
   },
   "outputs": [
    {
     "name": "stdout",
     "output_type": "stream",
     "text": [
      "Fall\n",
      "2022\n",
      "Fall\n",
      "2022\n",
      "Fall\n",
      "2022\n"
     ]
    }
   ],
   "source": [
    "#3\n",
    "season='Fall'\n",
    "year=2022\n",
    "print(season)\n",
    "print(year)\n",
    "print(f'{season}\\n{year}')\n",
    "print(season+'\\n'+str(year))"
   ]
  },
  {
   "cell_type": "code",
   "execution_count": 32,
   "id": "562ac422",
   "metadata": {},
   "outputs": [
    {
     "name": "stdout",
     "output_type": "stream",
     "text": [
      "Fall\n",
      "2022\n",
      "fall\n",
      "2022\n"
     ]
    }
   ],
   "source": [
    "#3'\n",
    "season,year='Fall',2022\n",
    "print(season)\n",
    "print(year)\n",
    "print('fall\\n2022')#it's not wanted"
   ]
  },
  {
   "cell_type": "code",
   "execution_count": 4,
   "id": "c8ec4e8a",
   "metadata": {},
   "outputs": [
    {
     "name": "stdout",
     "output_type": "stream",
     "text": [
      "Please enter your namesps\n",
      "Your name is sps\n",
      "Your name is sps\n",
      "your name is sps\n"
     ]
    }
   ],
   "source": [
    "#4\n",
    "name=input(\"Please enter your name\")\n",
    "print('Your name is',name)\n",
    "print('Your name is '+name)\n",
    "print(f\"Your name is {name}\") #f string"
   ]
  },
  {
   "cell_type": "code",
   "execution_count": 38,
   "id": "f1003497",
   "metadata": {},
   "outputs": [
    {
     "name": "stdout",
     "output_type": "stream",
     "text": [
      "enter your number M: 2\n",
      "enter your number N: 3\n",
      "2^3: 8\n"
     ]
    }
   ],
   "source": [
    "#5\n",
    "first=int(input('enter your number M: '))\n",
    "second=int(input('enter your number N: '))\n",
    "print(str(first)+'^'+str(second)+':',first**second)"
   ]
  },
  {
   "cell_type": "code",
   "execution_count": 41,
   "id": "d971eb51",
   "metadata": {},
   "outputs": [
    {
     "name": "stdout",
     "output_type": "stream",
     "text": [
      "enter your total weight of the shipment: 23\n",
      "maximum load is:  20\n"
     ]
    }
   ],
   "source": [
    "#6\n",
    "weight=int(input('enter your total weight of the shipment: '))\n",
    "max = weight-(weight%4)\n",
    "print('maximum load is: ',max)"
   ]
  },
  {
   "cell_type": "code",
   "execution_count": 42,
   "id": "6f756cde",
   "metadata": {},
   "outputs": [
    {
     "name": "stdout",
     "output_type": "stream",
     "text": [
      "enter your total weight of the shipment: 23\n",
      "maximum load is:  20\n"
     ]
    }
   ],
   "source": [
    "#6'\n",
    "weight=int(input('enter your total weight of the shipment: '))\n",
    "max=(weight//4)*4  \n",
    "print('maximum load is: ',max)"
   ]
  },
  {
   "cell_type": "code",
   "execution_count": 43,
   "id": "58afed78",
   "metadata": {},
   "outputs": [
    {
     "name": "stdout",
     "output_type": "stream",
     "text": [
      "Enter the vaule of A: 2\n",
      "Enter the value of B: 6\n",
      "Enter the value of C: 8\n",
      "Enter the value of D1.3\n",
      "result: 267\n"
     ]
    }
   ],
   "source": [
    "#7\n",
    "first=int(input('Enter the vaule of A: '))\n",
    "second=int(input('Enter the value of B: '))\n",
    "third=int(input('Enter the value of C: '))\n",
    "fourth=float(input('Enter the value of D'))\n",
    "result=first**third+second*first-fourth/3\n",
    "print('Result:',int(result))"
   ]
  },
  {
   "cell_type": "code",
   "execution_count": 46,
   "id": "85934c3d",
   "metadata": {},
   "outputs": [
    {
     "name": "stdout",
     "output_type": "stream",
     "text": [
      "Enter the number of total chocolates90\n",
      "Each friend will receive 30 chocolates\n",
      "The number of remaining chocolates is 0\n"
     ]
    }
   ],
   "source": [
    "#8\n",
    "total=int(input('Enter the number of total chocolates'))\n",
    "get=total//3\n",
    "remain=total-get*3\n",
    "#remain=total%3\n",
    "print('Each friend will receive',get,'chocolates')\n",
    "print('The number of remaining chocolates is',remain)"
   ]
  },
  {
   "cell_type": "code",
   "execution_count": 47,
   "id": "064b12a9",
   "metadata": {},
   "outputs": [
    {
     "name": "stdout",
     "output_type": "stream",
     "text": [
      "First input: 8\n",
      "Second input: gh\n",
      "gh8\n"
     ]
    }
   ],
   "source": [
    "#9\n",
    "input1=input('First input: ')\n",
    "input2=input('Second input: ')\n",
    "print(input2+input1)"
   ]
  },
  {
   "cell_type": "code",
   "execution_count": 48,
   "id": "c6b14daf",
   "metadata": {},
   "outputs": [
    {
     "name": "stdout",
     "output_type": "stream",
     "text": [
      "First input: 23\n",
      "Second input: gf\n",
      "gf23\n"
     ]
    }
   ],
   "source": [
    "#9'\n",
    "input1=input('First input: ')\n",
    "input2=input('Second input: ')\n",
    "print(input2,end='')\n",
    "print(input1)"
   ]
  },
  {
   "cell_type": "code",
   "execution_count": 49,
   "id": "99e5cb9b",
   "metadata": {},
   "outputs": [
    {
     "name": "stdout",
     "output_type": "stream",
     "text": [
      "Please enter your line: I am sos\n",
      "I\n"
     ]
    }
   ],
   "source": [
    "#10\n",
    "give=input('Please enter your line: ')\n",
    "print(give[0])"
   ]
  },
  {
   "cell_type": "code",
   "execution_count": 51,
   "id": "887d5d1a",
   "metadata": {},
   "outputs": [
    {
     "name": "stdout",
     "output_type": "stream",
     "text": [
      "Enter your number: 65\n",
      "False\n"
     ]
    }
   ],
   "source": [
    "#11\n",
    "number=int(input('Enter your number: '))\n",
    "if number%2==0:\n",
    "    print('True')\n",
    "else:\n",
    "    print('False')\n",
    "    "
   ]
  },
  {
   "cell_type": "code",
   "execution_count": null,
   "id": "0005b243",
   "metadata": {},
   "outputs": [],
   "source": []
  }
 ],
 "metadata": {
  "kernelspec": {
   "display_name": "Python 3 (ipykernel)",
   "language": "python",
   "name": "python3"
  },
  "language_info": {
   "codemirror_mode": {
    "name": "ipython",
    "version": 3
   },
   "file_extension": ".py",
   "mimetype": "text/x-python",
   "name": "python",
   "nbconvert_exporter": "python",
   "pygments_lexer": "ipython3",
   "version": "3.9.13"
  }
 },
 "nbformat": 4,
 "nbformat_minor": 5
}
