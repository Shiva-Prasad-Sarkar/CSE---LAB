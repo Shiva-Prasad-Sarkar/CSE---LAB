{
 "cells": [
  {
   "cell_type": "markdown",
   "id": "e20b654c",
   "metadata": {},
   "source": [
    "[ctrl+z=get back deleted task]\n",
    "\n",
    "[ctrl+?= do comment+remove comment]"
   ]
  },
  {
   "cell_type": "markdown",
   "id": "9b936a1c",
   "metadata": {},
   "source": [
    "##Task 1\n",
    "\n",
    "Write the python programs, which prints the following sequences of values in loops:\n",
    "\n",
    "a) 24, 18, 12, 6, 0, -6\n",
    "\n",
    "b) -10, -5, 0, 5, 10, 15, 20\n",
    "\n",
    "c) 18, 27, 36, 45, 54, 63\n",
    "\n",
    "d) 18, -27, 36, -45, 54, -63\n"
   ]
  },
  {
   "cell_type": "code",
   "execution_count": 1,
   "id": "7bd2d811",
   "metadata": {},
   "outputs": [
    {
     "name": "stdout",
     "output_type": "stream",
     "text": [
      "24,18,12,6,0,-6"
     ]
    }
   ],
   "source": [
    "#1a\n",
    "i=24\n",
    "while i>=-6:\n",
    "    if i==-6:\n",
    "        print(i,end='')\n",
    "    else:    \n",
    "        print(i,end=',')\n",
    "    i=i-6"
   ]
  },
  {
   "cell_type": "code",
   "execution_count": 2,
   "id": "74c87349",
   "metadata": {},
   "outputs": [
    {
     "name": "stdout",
     "output_type": "stream",
     "text": [
      "24,18,12,6,0,-6"
     ]
    }
   ],
   "source": [
    "#1a'\n",
    "for i in range(24,-7,-6):\n",
    "    if i==-6:\n",
    "        print(i,end='')\n",
    "    else:    \n",
    "        print(i,end=',')"
   ]
  },
  {
   "cell_type": "code",
   "execution_count": 10,
   "id": "5ff0764c",
   "metadata": {},
   "outputs": [
    {
     "name": "stdout",
     "output_type": "stream",
     "text": [
      "-10,-5,0,5,10,15,20"
     ]
    }
   ],
   "source": [
    "#1b\n",
    "i=-10\n",
    "while i<=20:\n",
    "    if i==20:\n",
    "        print(i,end='')\n",
    "    else:    \n",
    "        print(i,end=',')\n",
    "    i=i+5\n",
    "    "
   ]
  },
  {
   "cell_type": "code",
   "execution_count": 12,
   "id": "ef6a9453",
   "metadata": {},
   "outputs": [
    {
     "name": "stdout",
     "output_type": "stream",
     "text": [
      "-10,-5,0,5,10,15,20"
     ]
    }
   ],
   "source": [
    "#1b'\n",
    "for i in range(-10,21,5):\n",
    "    if i==20:\n",
    "        print(i,end='')\n",
    "    else:    \n",
    "        print(i,end=',')"
   ]
  },
  {
   "cell_type": "code",
   "execution_count": 13,
   "id": "d8eb21c3",
   "metadata": {},
   "outputs": [
    {
     "name": "stdout",
     "output_type": "stream",
     "text": [
      "18,27,36,45,54,63"
     ]
    }
   ],
   "source": [
    "#1c\n",
    "i=18\n",
    "while i<=63:\n",
    "    if i==63:\n",
    "        print(i,end='')\n",
    "    else:    \n",
    "        print(i,end=',')\n",
    "    i=i+9"
   ]
  },
  {
   "cell_type": "code",
   "execution_count": 14,
   "id": "cafe007a",
   "metadata": {},
   "outputs": [
    {
     "name": "stdout",
     "output_type": "stream",
     "text": [
      "18,27,36,45,54,63"
     ]
    }
   ],
   "source": [
    "#1c'\n",
    "for i in range(18,64,9):\n",
    "    if i==63:\n",
    "        print(i,end='')\n",
    "    else:    \n",
    "        print(i,end=',')"
   ]
  },
  {
   "cell_type": "code",
   "execution_count": 3,
   "id": "db915130",
   "metadata": {},
   "outputs": [
    {
     "name": "stdout",
     "output_type": "stream",
     "text": [
      "18,-27,36,-45,54,-63"
     ]
    }
   ],
   "source": [
    "#1d\n",
    "i=18\n",
    "while i<=63:\n",
    "    if i%2==0:\n",
    "        print(i,end=',')\n",
    "    else:\n",
    "        if i==63:\n",
    "            print(-i,end='')\n",
    "        else:    \n",
    "            print(-i,end=',')\n",
    "    i=i+9        "
   ]
  },
  {
   "cell_type": "code",
   "execution_count": 4,
   "id": "cef3edfb",
   "metadata": {},
   "outputs": [
    {
     "name": "stdout",
     "output_type": "stream",
     "text": [
      "18,-27,36,-45,54,-63"
     ]
    }
   ],
   "source": [
    "#1d'\n",
    "for i in range(18,64,9):\n",
    "    if i%2==0:\n",
    "        print(i,end=',')\n",
    "    else:\n",
    "        if i==63:\n",
    "            print(-i,end='')\n",
    "        else:    \n",
    "            print(-i,end=',')\n",
    "        \n",
    "    "
   ]
  },
  {
   "cell_type": "markdown",
   "id": "a443ed07",
   "metadata": {},
   "source": [
    "##Task 2\n",
    "\n",
    "Write a Python co\n",
    "de for the following:\n",
    "1) Ask the user to enter the name of his favorite car.\n",
    "2) Ask the user to enter a Number\n",
    "Display the name of the user’s favorite car, the number of times specified in the second step.\n",
    "=============================================================     If the user enters “Toyota” and 2, your program should print the name “Toyota” two times.\n"
   ]
  },
  {
   "cell_type": "code",
   "execution_count": 5,
   "id": "6408ebba",
   "metadata": {},
   "outputs": [
    {
     "name": "stdout",
     "output_type": "stream",
     "text": [
      "enter car name: sdff\n",
      "car number: 5\n",
      "sdff\n",
      "sdff\n",
      "sdff\n",
      "sdff\n",
      "sdff\n"
     ]
    }
   ],
   "source": [
    "#2\n",
    "car=input('enter car name: ')\n",
    "num=int(input('car number: '))\n",
    "i=0\n",
    "while i<num:\n",
    "    print(car,end='')\n",
    "    print()\n",
    "    i=i+1"
   ]
  },
  {
   "cell_type": "code",
   "execution_count": 1,
   "id": "a3ab83e2",
   "metadata": {},
   "outputs": [
    {
     "name": "stdout",
     "output_type": "stream",
     "text": [
      "enter car name: hj\n",
      "car number: 2\n",
      "hj\n",
      "hj\n"
     ]
    }
   ],
   "source": [
    "#2'\n",
    "car=input('enter car name: ')\n",
    "num=int(input('car number: '))\n",
    "for i in range(num):\n",
    "    print(car)\n"
   ]
  },
  {
   "cell_type": "markdown",
   "id": "3a2bb886",
   "metadata": {},
   "source": [
    "##Task 3\n",
    "\n",
    "Write the Python code of a program that adds all numbers that are multiples of both 7 and 9 up to 600 (including 600) i.e. 63, 126, 189, 252, ....\n",
    "The output of your program should be: 2835\n",
    "since 63 + 126 + 189 + 252 + 315 + 378 + 441 + 504 + 567 = 2835\n"
   ]
  },
  {
   "cell_type": "code",
   "execution_count": 7,
   "id": "7e8fe21d",
   "metadata": {},
   "outputs": [
    {
     "name": "stdout",
     "output_type": "stream",
     "text": [
      "2835\n"
     ]
    }
   ],
   "source": [
    "#3\n",
    "i=0\n",
    "sum=0\n",
    "while i<601:\n",
    "    if i%7==0 and i%9==0:\n",
    "        sum=sum+i\n",
    "    i=i+1\n",
    "print(sum)    "
   ]
  },
  {
   "cell_type": "code",
   "execution_count": 8,
   "id": "b921e873",
   "metadata": {},
   "outputs": [
    {
     "name": "stdout",
     "output_type": "stream",
     "text": [
      "2835\n"
     ]
    }
   ],
   "source": [
    "#3'\n",
    "sum=0\n",
    "for i in range(601):\n",
    "    if i%7==0 and i%9==0:\n",
    "        sum=sum+i\n",
    "print(sum)        \n",
    "    "
   ]
  },
  {
   "cell_type": "markdown",
   "id": "320435e1",
   "metadata": {},
   "source": [
    "##Task 4\n",
    "\n",
    "Write a Python code of a program that adds all numbers that are multiples of either 7 or 9 but not both, up to 600 (including 600) i.e. 7, 9, 14, 18, 21..... and so on but not the numbers 63, 126, 189..... which are multiples of both 7 and 9.\n",
    "\n",
    "The output of your program should be: 39814\n"
   ]
  },
  {
   "cell_type": "code",
   "execution_count": 9,
   "id": "511905b5",
   "metadata": {},
   "outputs": [
    {
     "name": "stdout",
     "output_type": "stream",
     "text": [
      "39814\n"
     ]
    }
   ],
   "source": [
    "#4\n",
    "i=0\n",
    "sum1=0\n",
    "sum2=0\n",
    "while i<601:\n",
    "    if i%7==0 and i%9==0:\n",
    "        sum1=sum1+i\n",
    "    i=i+1\n",
    "i=0 #[must initialise i again]  \n",
    "while i<601:\n",
    "    if i%7==0 or i%9==0:\n",
    "        sum2=sum2+i\n",
    "    i=i+1\n",
    "sum3=sum2-sum1\n",
    "print(sum3)\n",
    "    "
   ]
  },
  {
   "cell_type": "code",
   "execution_count": 10,
   "id": "469d54a7",
   "metadata": {},
   "outputs": [
    {
     "name": "stdout",
     "output_type": "stream",
     "text": [
      "39814\n"
     ]
    }
   ],
   "source": [
    "#4'\n",
    "i=0\n",
    "sum=0\n",
    "while i<601:\n",
    "    if i%7==0 and i%9==0:\n",
    "        pass\n",
    "    elif i%7==0 or i%9==0: \n",
    "        sum=sum+i\n",
    "    i=i+1\n",
    "print(sum)    "
   ]
  },
  {
   "cell_type": "code",
   "execution_count": 13,
   "id": "6cd0527f",
   "metadata": {},
   "outputs": [
    {
     "name": "stdout",
     "output_type": "stream",
     "text": [
      "39814\n"
     ]
    }
   ],
   "source": [
    "#4''\n",
    "i=0\n",
    "sum=0\n",
    "while i<601:\n",
    "    \n",
    "    if i%7==0 and i%9!=0 or i%7!=0 and i%9==0:\n",
    "            sum=sum+i\n",
    "    i=i+1                   \n",
    "print(sum)    "
   ]
  },
  {
   "cell_type": "code",
   "execution_count": 2,
   "id": "ce6bc05f",
   "metadata": {},
   "outputs": [
    {
     "name": "stdout",
     "output_type": "stream",
     "text": [
      "39814\n"
     ]
    }
   ],
   "source": [
    "#4'''\n",
    "sum1=0\n",
    "sum2=0\n",
    "for i in range(601):\n",
    "    if i%7==0 and i%9==0:\n",
    "        sum1=sum1+i\n",
    "        \n",
    "for i in range(601):\n",
    "    if i%7==0 or i%9==0:\n",
    "        sum2=sum2+i\n",
    "sum3=sum2-sum1\n",
    "print(sum3)"
   ]
  },
  {
   "cell_type": "code",
   "execution_count": 3,
   "id": "fffd0363",
   "metadata": {},
   "outputs": [
    {
     "name": "stdout",
     "output_type": "stream",
     "text": [
      "39814\n"
     ]
    }
   ],
   "source": [
    "#4''''\n",
    "sum=0\n",
    "for i in range(601):\n",
    "    if i%7==0 and i%9==0:\n",
    "        pass\n",
    "    elif i%7==0 or i%9==0: \n",
    "        sum=sum+i\n",
    "print(sum)"
   ]
  },
  {
   "cell_type": "code",
   "execution_count": 4,
   "id": "9b4b20a3",
   "metadata": {},
   "outputs": [
    {
     "name": "stdout",
     "output_type": "stream",
     "text": [
      "39814\n"
     ]
    }
   ],
   "source": [
    "#4'''''\n",
    "sum=0\n",
    "for i in range(601):\n",
    "    \n",
    "    if i%7==0 and i%9!=0 or i%7!=0 and i%9==0:\n",
    "            sum=sum+i\n",
    "    i=i+1                   \n",
    "print(sum)"
   ]
  },
  {
   "cell_type": "markdown",
   "id": "f37aa1ae",
   "metadata": {},
   "source": [
    "##Task 5\n",
    "\n",
    "\n",
    "Write the Python code of a program that displays all the odd numbers between 10 and 50 (inclusive).\n",
    "\n",
    "Output: 11 13 15 17 19 21 23 25 27 29 31 33 35 37 39 41 43 45 47 49\n"
   ]
  },
  {
   "cell_type": "code",
   "execution_count": 7,
   "id": "5bf9f9e5",
   "metadata": {},
   "outputs": [
    {
     "name": "stdout",
     "output_type": "stream",
     "text": [
      "11 13 15 17 19 21 23 25 27 29 31 33 35 37 39 41 43 45 47 49 "
     ]
    }
   ],
   "source": [
    "#5\n",
    "i=11\n",
    "while i<50:\n",
    "    print(i,end=' ')\n",
    "    i=i+2"
   ]
  },
  {
   "cell_type": "code",
   "execution_count": 9,
   "id": "fb662f89",
   "metadata": {},
   "outputs": [
    {
     "name": "stdout",
     "output_type": "stream",
     "text": [
      "11 13 15 17 19 21 23 25 27 29 31 33 35 37 39 41 43 45 47 49 "
     ]
    }
   ],
   "source": [
    "#5'\n",
    "for i in range(11,50,2):\n",
    "    print(i,end=' ')"
   ]
  },
  {
   "cell_type": "markdown",
   "id": "c22689ae",
   "metadata": {},
   "source": [
    "##Task 6\n",
    "\n",
    "Write a Python code that will calculate the value of y if the expression of y is as follows (n is the input):\n",
    "\n",
    "y=1^2−2^2+3^2−4^2+5^2.........+n^2\n"
   ]
  },
  {
   "cell_type": "code",
   "execution_count": 11,
   "id": "b74f8d0e",
   "metadata": {},
   "outputs": [
    {
     "name": "stdout",
     "output_type": "stream",
     "text": [
      "enter a number: 5\n",
      "15\n"
     ]
    }
   ],
   "source": [
    "#6\n",
    "y=0\n",
    "i=0\n",
    "n=int(input('enter a number: '))\n",
    "\n",
    "while i<=n:\n",
    "    if i%2==0:\n",
    "        y=y-i**2\n",
    "    else:\n",
    "        y=y+i**2\n",
    "    i=i+1\n",
    "print(y)    "
   ]
  },
  {
   "cell_type": "code",
   "execution_count": 15,
   "id": "33641249",
   "metadata": {},
   "outputs": [
    {
     "name": "stdout",
     "output_type": "stream",
     "text": [
      "enter a number: 5\n",
      "15\n"
     ]
    }
   ],
   "source": [
    "#6'\n",
    "y=0\n",
    "i=0\n",
    "n=int(input('enter a number: '))\n",
    "\n",
    "for i in range(0,n+1):\n",
    "    if i%2==0:\n",
    "        y=y-i**2\n",
    "    else:\n",
    "        y=y+i**2    \n",
    "print(y) \n"
   ]
  },
  {
   "cell_type": "markdown",
   "id": "f3ad78ba",
   "metadata": {},
   "source": [
    "##Task 7\n",
    "\n",
    "Write a Python code of a program that asks the user to enter ten numbers and then display the total and the average of ONLY the odd numbers among those ten numbers.\n",
    "[Please do not use list for this task]\n"
   ]
  },
  {
   "cell_type": "code",
   "execution_count": 17,
   "id": "eb8b1dae",
   "metadata": {},
   "outputs": [
    {
     "name": "stdout",
     "output_type": "stream",
     "text": [
      "enter a number: 1\n",
      "enter a number: 2\n",
      "enter a number: 3\n",
      "enter a number: 4\n",
      "enter a number: 5\n",
      "enter a number: 6\n",
      "enter a number: 7\n",
      "enter a number: 8\n",
      "enter a number: 9\n",
      "enter a number: 10\n",
      "55\n",
      "5.0\n"
     ]
    }
   ],
   "source": [
    "#7\n",
    "sum=0\n",
    "i=0\n",
    "sum1=0\n",
    "count=0\n",
    "while i<10:\n",
    "    enter=int(input('enter a number: '))\n",
    "    sum=sum+enter\n",
    "    if enter%2!=0:\n",
    "        sum1+=enter\n",
    "        count+=1\n",
    "    i=i+1\n",
    "print(sum)\n",
    "print(sum1/count)"
   ]
  },
  {
   "cell_type": "code",
   "execution_count": 20,
   "id": "bbe9353f",
   "metadata": {
    "scrolled": true
   },
   "outputs": [
    {
     "name": "stdout",
     "output_type": "stream",
     "text": [
      "enter a number: 54\n",
      "enter a number: 41\n",
      "enter a number: 5\n",
      "enter a number: 8\n",
      "enter a number: 744\n",
      "enter a number: 465\n",
      "enter a number: -5\n",
      "enter a number: -454\n",
      "enter a number: -45\n",
      "enter a number: 45\n",
      "858\n",
      "84.33333333333333\n"
     ]
    }
   ],
   "source": [
    "#7'\n",
    "sum=0\n",
    "sum1=0\n",
    "count=0\n",
    "for i in range(10):\n",
    "    enter=int(input('enter a number: '))\n",
    "    sum=sum+enter\n",
    "    if enter%2!=0:\n",
    "        sum1+=enter\n",
    "        count+=1\n",
    "print(sum)\n",
    "print(sum1/count)"
   ]
  },
  {
   "cell_type": "markdown",
   "id": "f8b09e70",
   "metadata": {},
   "source": [
    "##Task 8\n",
    "\n",
    "Write a Python code for the following:\n",
    "Ask the user to enter a Number, N\n",
    "Display the summation of multiples of 7 up to that number (from 1 to N inclusive)\n"
   ]
  },
  {
   "cell_type": "code",
   "execution_count": 2,
   "id": "a5b34c82",
   "metadata": {},
   "outputs": [
    {
     "name": "stdout",
     "output_type": "stream",
     "text": [
      "enter a number: 75\n",
      "385\n"
     ]
    }
   ],
   "source": [
    "#8\n",
    "i=0\n",
    "c=0\n",
    "sum=0\n",
    "n=int(input('enter a number: '))\n",
    "while c<n:\n",
    "    if i%7==0:\n",
    "        sum=sum+i\n",
    "        c=c+7\n",
    "    i+=1    \n",
    "print(sum)        \n"
   ]
  },
  {
   "cell_type": "code",
   "execution_count": 3,
   "id": "fe662507",
   "metadata": {},
   "outputs": [
    {
     "name": "stdout",
     "output_type": "stream",
     "text": [
      "enter a number50\n",
      "196\n"
     ]
    }
   ],
   "source": [
    "#8'\n",
    "n=int(input('enter a number'))\n",
    "sum=0\n",
    "for i in range(0,n+1,7):\n",
    "    sum+=i\n",
    "print(sum)    "
   ]
  },
  {
   "cell_type": "code",
   "execution_count": 1,
   "id": "457c5ca4",
   "metadata": {},
   "outputs": [
    {
     "name": "stdout",
     "output_type": "stream",
     "text": [
      "enter a number50\n",
      "196\n"
     ]
    }
   ],
   "source": [
    "#8''\n",
    "n=int(input('enter a number'))\n",
    "sum=0\n",
    "for i in range(n+1):\n",
    "    if i%7==0: \n",
    "        sum+=i\n",
    "print(sum)    "
   ]
  },
  {
   "cell_type": "markdown",
   "id": "799e2d86",
   "metadata": {},
   "source": [
    "##Task 9\n",
    "\n",
    "Write a Python code that will read 5 numbers from the user. Your program should print the first number, the sum of the first 2 numbers, the sum of the first 3 numbers, and so on up to the sum of 5 numbers.\n"
   ]
  },
  {
   "cell_type": "code",
   "execution_count": 2,
   "id": "148b92e5",
   "metadata": {},
   "outputs": [
    {
     "name": "stdout",
     "output_type": "stream",
     "text": [
      "please enter a number: 1\n",
      "1\n",
      "please enter a number: 2\n",
      "3\n",
      "please enter a number: 3\n",
      "6\n",
      "please enter a number: 4\n",
      "10\n",
      "please enter a number: 5\n",
      "15\n"
     ]
    }
   ],
   "source": [
    "#9\n",
    "i=0\n",
    "sum=0\n",
    "while i<5:\n",
    "    usr=int(input('please enter a number: '))\n",
    "    sum=sum+usr\n",
    "    print(sum)\n",
    "    i+=1"
   ]
  },
  {
   "cell_type": "code",
   "execution_count": 1,
   "id": "a8bbccb2",
   "metadata": {},
   "outputs": [
    {
     "name": "stdout",
     "output_type": "stream",
     "text": [
      "enter a number: 1\n",
      "1\n",
      "enter a number: 2\n",
      "3\n",
      "enter a number: 3\n",
      "6\n",
      "enter a number: 4\n",
      "10\n",
      "enter a number: 5\n",
      "15\n"
     ]
    }
   ],
   "source": [
    "#9'\n",
    "sum=0\n",
    "for i in range(5):\n",
    "    usr=int(input('enter a number: '))\n",
    "    sum=sum+usr\n",
    "    print(sum)"
   ]
  },
  {
   "cell_type": "markdown",
   "id": "5f2285f1",
   "metadata": {},
   "source": [
    "##Task 10\n",
    "\n",
    "Write a Python program which takes a number and prints the digits from the unit place, then the tenth, then hundredth, etc. (Right to Left)\n",
    "[Consider the input number to be an INTEGER. You are not allowed to use String indexing for solving this task]\n",
    "\n",
    "\n",
    "Example: If the user gives 32768, then print 8, 6, 7, 2, 3\n"
   ]
  },
  {
   "cell_type": "code",
   "execution_count": 13,
   "id": "05230107",
   "metadata": {},
   "outputs": [
    {
     "name": "stdout",
     "output_type": "stream",
     "text": [
      "please enter a number: 5667\n",
      "7,6,6,5 "
     ]
    }
   ],
   "source": [
    "#10\n",
    "n=int(input('please enter a number: '))\n",
    "remains=0\n",
    "num=0\n",
    "s=n\n",
    "while s!=0:\n",
    "    num=s%10\n",
    "    remains=s//10\n",
    "    if s%10==s:\n",
    "        print(num,end=' ')\n",
    "    else:\n",
    "        print(num,end=',')\n",
    "    \n",
    "    s=remains\n",
    "    "
   ]
  },
  {
   "cell_type": "code",
   "execution_count": null,
   "id": "0e054f12",
   "metadata": {},
   "outputs": [],
   "source": [
    "n=int(input())\n",
    "c=0\n",
    "for i in range"
   ]
  },
  {
   "cell_type": "code",
   "execution_count": null,
   "id": "75549799",
   "metadata": {},
   "outputs": [],
   "source": [
    "#10'\n",
    "n=int(input('please enter a number: '))\n",
    "s=str(n)\n",
    "for i in range(len(s)-1,-1,-1):\n",
    "    if s[i]==s[0]:\n",
    "        print(s[i],end=' ')\n",
    "    else:\n",
    "        print(s[i],end=',')\n",
    "        "
   ]
  },
  {
   "cell_type": "markdown",
   "id": "4ddf1b8d",
   "metadata": {},
   "source": [
    "##Task 11\n",
    "\n",
    "Write a Python program that takes a number and prints how many digits are in that number.\n",
    "[Consider the input number to be an INTEGER.]\n",
    "[You are not allowed to use len() function]\n",
    "\n",
    "Example: If the user gives 9876, your program should print 4.\n"
   ]
  },
  {
   "cell_type": "code",
   "execution_count": 22,
   "id": "ac36672c",
   "metadata": {},
   "outputs": [
    {
     "name": "stdout",
     "output_type": "stream",
     "text": [
      "please enter a number: 2345\n",
      "4\n"
     ]
    }
   ],
   "source": [
    "#11\n",
    "n=int(input('please enter a number: '))\n",
    "remains=0\n",
    "num=0\n",
    "s=n\n",
    "c=0\n",
    "while s!=0:\n",
    "    num=s%10\n",
    "    remains=s//10\n",
    "    s=remains\n",
    "    c+=1\n",
    "print(c)    \n",
    "    "
   ]
  },
  {
   "cell_type": "code",
   "execution_count": 23,
   "id": "f29dd7d7",
   "metadata": {},
   "outputs": [
    {
     "name": "stdout",
     "output_type": "stream",
     "text": [
      "please enter a number: 376\n",
      "3\n"
     ]
    }
   ],
   "source": [
    "#11'\n",
    "n=int(input('please enter a number: '))\n",
    "s=str(n)\n",
    "print(len(s))\n"
   ]
  },
  {
   "cell_type": "markdown",
   "id": "f6e6b979",
   "metadata": {},
   "source": [
    "##Task 12\n",
    "\n",
    "Write a Python program that takes a number from the user and prints its digits from left to right.\n",
    "[Consider the input number to be an INTEGER. You are not allowed to use String indexing for solving this task]\n",
    "\n",
    "Example: if the user gives 32768, then print 3, 2, 7, 6, 8\n"
   ]
  },
  {
   "cell_type": "code",
   "execution_count": 31,
   "id": "350089b4",
   "metadata": {},
   "outputs": [
    {
     "name": "stdout",
     "output_type": "stream",
     "text": [
      "please enter a number: 5467\n",
      "5,4,6,7 "
     ]
    }
   ],
   "source": [
    "#12\n",
    "n=int(input('please enter a number: '))\n",
    "remains=0\n",
    "num=0\n",
    "s=n\n",
    "c=0\n",
    "while s!=0:\n",
    "    num=s%10\n",
    "    remains=s//10\n",
    "    s=remains\n",
    "    c+=1\n",
    "value=10**(c-1)\n",
    "num=0\n",
    "s=n\n",
    "c=0\n",
    "rem=0\n",
    "while value!=0:\n",
    "    num=s//value\n",
    "    rem=s%value\n",
    "    if s//value==s:\n",
    "        print(num,end=' ')\n",
    "    else:\n",
    "        print(num,end=',')\n",
    "    value=value//10    \n",
    "    s=rem"
   ]
  },
  {
   "cell_type": "code",
   "execution_count": 33,
   "id": "5d50b5c0",
   "metadata": {},
   "outputs": [
    {
     "name": "stdout",
     "output_type": "stream",
     "text": [
      "please enter a number: 3658\n",
      "3,6,5,8 "
     ]
    }
   ],
   "source": [
    " #12'\n",
    "n=int(input('please enter a number: '))\n",
    "s=str(n)\n",
    "for i in range(len(s)):\n",
    "    if s[i]==s[len(s)-1]:\n",
    "        print(s[i],end=' ')\n",
    "    else:\n",
    "        print(s[i],end=',')\n",
    "\n",
    " \n",
    " \n",
    " \n",
    " "
   ]
  },
  {
   "cell_type": "markdown",
   "id": "c5783db1",
   "metadata": {},
   "source": [
    "##Task 13\n",
    "\n",
    "Write a Python program that takes a number as input from the user and prints the divisors of that number as well as how many divisors the number has.\n"
   ]
  },
  {
   "cell_type": "code",
   "execution_count": 2,
   "id": "4562a8f9",
   "metadata": {},
   "outputs": [
    {
     "name": "stdout",
     "output_type": "stream",
     "text": [
      "enter a number: 6\n",
      "1\n",
      "2\n",
      "3\n",
      "6\n",
      "4\n"
     ]
    }
   ],
   "source": [
    "#13\n",
    "i=1\n",
    "c=0\n",
    "n=int(input('enter a number: '))\n",
    "while i<=n:\n",
    "    if n%i==0:\n",
    "        print(i)\n",
    "        c=c+1\n",
    "    i=i+1    \n",
    "print(c)"
   ]
  },
  {
   "cell_type": "code",
   "execution_count": 35,
   "id": "b3751229",
   "metadata": {},
   "outputs": [
    {
     "name": "stdout",
     "output_type": "stream",
     "text": [
      "please enter a number: 35\n",
      "1\n",
      "5\n",
      "7\n",
      "35\n",
      "4\n"
     ]
    }
   ],
   "source": [
    "#13'\n",
    "n=int(input('please enter a number: '))\n",
    "c=0\n",
    "for i in range(1,n+1):\n",
    "    if n%i==0:\n",
    "        print(i)\n",
    "        c=c+1\n",
    "print(c)       "
   ]
  },
  {
   "cell_type": "markdown",
   "id": "1373b93b",
   "metadata": {},
   "source": [
    "##Task 14\n",
    "\n",
    "Write a Python program that takes a number as input from the user and tells if it is a perfect number or not.\n",
    "Perfect Number: An integer number is said to be a perfect number if its factors, including 1 but not the number itself, sum to the number.\n"
   ]
  },
  {
   "cell_type": "code",
   "execution_count": 4,
   "id": "86a1cc31",
   "metadata": {},
   "outputs": [
    {
     "name": "stdout",
     "output_type": "stream",
     "text": [
      "please enter a number: 25\n",
      "not perfect\n"
     ]
    }
   ],
   "source": [
    "#14\n",
    "n=int(input('please enter a number: '))\n",
    "i=1\n",
    "s=0\n",
    "while i<n:\n",
    "    if n%i==0:\n",
    "        s=s+i\n",
    "    i=i+1\n",
    "if s==n:\n",
    "    print('perfect')\n",
    "else:\n",
    "    print('not perfect')"
   ]
  },
  {
   "cell_type": "code",
   "execution_count": 1,
   "id": "7e4d97af",
   "metadata": {},
   "outputs": [
    {
     "name": "stdout",
     "output_type": "stream",
     "text": [
      "please enter a number: 6\n",
      "6\n",
      "perfect\n"
     ]
    }
   ],
   "source": [
    "#14'\n",
    "n=int(input('please enter a number: '))\n",
    "c=0\n",
    "for i in range(1,n):\n",
    "    if n%i==0:\n",
    "        c=c+i\n",
    "if c==n:\n",
    "    print('perfect')\n",
    "else:\n",
    "    print('not perfect') "
   ]
  },
  {
   "cell_type": "markdown",
   "id": "31d7c468",
   "metadata": {},
   "source": [
    "##Task 15\n",
    "\n",
    "Write a Python program that asks the user for one number and tells if it is a prime number or not.\n",
    "Prime Number: If a number has only two divisors, (1 and itself), then it is a prime number. If it is divisible by more numbers, then it is not a prime.\n"
   ]
  },
  {
   "cell_type": "code",
   "execution_count": 11,
   "id": "5cba4e2f",
   "metadata": {},
   "outputs": [
    {
     "name": "stdout",
     "output_type": "stream",
     "text": [
      "enter a number: 2\n",
      "not prime\n"
     ]
    }
   ],
   "source": [
    "#15\n",
    "i=1\n",
    "c=0\n",
    "n=int(input('enter a number: '))\n",
    "while i<=n:\n",
    "    if n%i==0:\n",
    "        c=c+1\n",
    "    i=i+1    \n",
    "if c==2 or n==1:\n",
    "    if n==2:\n",
    "        print('not prime')\n",
    "    else:    \n",
    "        print('prime')\n",
    "else:\n",
    "    print('not prime')"
   ]
  },
  {
   "cell_type": "code",
   "execution_count": 15,
   "id": "a4e2ca1b",
   "metadata": {},
   "outputs": [
    {
     "name": "stdout",
     "output_type": "stream",
     "text": [
      "please enter a number: 99\n",
      "not prime\n"
     ]
    }
   ],
   "source": [
    "#15'\n",
    "n=int(input('please enter a number: '))\n",
    "c=0\n",
    "for i in range(1,n+1):\n",
    "    if n%i==0:\n",
    "        c=c+1\n",
    "if c==2 or n==1:\n",
    "    if n==2:\n",
    "        print('not prime')\n",
    "    else:    \n",
    "        print('prime')\n",
    "else:\n",
    "    print('not prime')"
   ]
  },
  {
   "cell_type": "markdown",
   "id": "3412cf66",
   "metadata": {},
   "source": [
    "##Task 16\n",
    "\n",
    "Write a Python program that asks the user for a quantity, then takes that many numbers as input and prints the maximum, minimum and average of those numbers.\n",
    "[Please note that you CANNOT use max, min built-in functions]\n",
    "[Also, you DO NOT need to use lists for this task]\n"
   ]
  },
  {
   "cell_type": "code",
   "execution_count": 4,
   "id": "54e6d640",
   "metadata": {
    "scrolled": false
   },
   "outputs": [
    {
     "name": "stdout",
     "output_type": "stream",
     "text": [
      "enter a quantity: 5\n",
      "enter number-87\n",
      "enter number989756\n",
      "enter number5661\n",
      "enter number4654\n",
      "enter number-1\n",
      "989756\n",
      "-87\n"
     ]
    }
   ],
   "source": [
    "#16\n",
    "n=int(input('enter a quantity: '))\n",
    "max=-9999999**9999\n",
    "min=9999999**99999\n",
    "i=0\n",
    "while i<=n:\n",
    "    x=int(input('enter number: '))\n",
    "    if x>max:\n",
    "        max=x\n",
    "    if x<min:\n",
    "        min=x\n",
    "    i=i+1    \n",
    "print(max)\n",
    "print(min)"
   ]
  },
  {
   "cell_type": "code",
   "execution_count": 6,
   "id": "1a68e2ee",
   "metadata": {},
   "outputs": [
    {
     "name": "stdout",
     "output_type": "stream",
     "text": [
      "enter number: 5\n",
      "enter number: 56\n",
      "enter number: 65\n",
      "enter number: 56\n",
      "enter number: 56\n",
      "65\n",
      "5\n"
     ]
    }
   ],
   "source": [
    "#16'\n",
    "import math\n",
    "n=int(input('enter a quantity: '))\n",
    "max=-math.inf\n",
    "min=math.inf\n",
    "i=0\n",
    "while i<=n:\n",
    "    x=int(input('enter number: '))\n",
    "    if x>max:\n",
    "        max=x\n",
    "    if x<min:\n",
    "        min=x\n",
    "    i=i+1    \n",
    "print(max)\n",
    "print(min)"
   ]
  },
  {
   "cell_type": "code",
   "execution_count": 7,
   "id": "0c53a7ca",
   "metadata": {},
   "outputs": [
    {
     "name": "stdout",
     "output_type": "stream",
     "text": [
      "enter a quantity: 5\n",
      "enter number: 56\n",
      "enter number: 564\n",
      "enter number: 34\n",
      "enter number: 7\n",
      "enter number: 34\n",
      "564\n",
      "7\n"
     ]
    }
   ],
   "source": [
    "#16''\n",
    "n=int(input('enter a quantity: '))\n",
    "max=-9999999**9999\n",
    "min=9999999**99999\n",
    "for i in range(n):\n",
    "    x=int(input('enter number: '))\n",
    "    if x>max:\n",
    "        max=x\n",
    "    if x<min:\n",
    "        min=x   \n",
    "print(max)\n",
    "print(min)"
   ]
  },
  {
   "cell_type": "code",
   "execution_count": 9,
   "id": "090e7b2e",
   "metadata": {},
   "outputs": [
    {
     "name": "stdout",
     "output_type": "stream",
     "text": [
      "enter number: 5\n",
      "enter number: 1\n",
      "enter number: 2\n",
      "enter number: 3\n",
      "enter number: 4\n",
      "5\n",
      "1\n"
     ]
    }
   ],
   "source": [
    "#16'''\n",
    "import math\n",
    "n=int(input('enter a quantity: '))\n",
    "max=-math.inf\n",
    "min=math.inf\n",
    "for i in range(n):\n",
    "    x=int(input('enter number: '))\n",
    "    if x>max:\n",
    "        max=x\n",
    "    if x<min:\n",
    "        min=x   \n",
    "print(max)\n",
    "print(min)\n"
   ]
  },
  {
   "cell_type": "markdown",
   "id": "94453278",
   "metadata": {},
   "source": [
    "##Task 25\n",
    "\n",
    "Write a python program that prints all the Fibonacci numbers from 0 to N where N will be given as input by the user.\n"
   ]
  },
  {
   "cell_type": "code",
   "execution_count": 3,
   "id": "469044b5",
   "metadata": {},
   "outputs": [
    {
     "name": "stdout",
     "output_type": "stream",
     "text": [
      "enter your limit 10\n",
      "0 1 1 2 3 5 8 "
     ]
    }
   ],
   "source": [
    "#25\n",
    "i=0\n",
    "s=1\n",
    "f=0\n",
    "a=0\n",
    "b=1 \n",
    "n=int(input('enter your limit '))\n",
    "print(a,b,end=' ')\n",
    "while f<n:\n",
    "    f=i+s\n",
    "    i=s\n",
    "    s=f\n",
    "    if f<n:\n",
    "        print(f,end=' ')   "
   ]
  },
  {
   "cell_type": "code",
   "execution_count": 2,
   "id": "9b955ca0",
   "metadata": {},
   "outputs": [
    {
     "name": "stdout",
     "output_type": "stream",
     "text": [
      "enter your limit 10\n",
      "0 1 1 2 3 5 8 "
     ]
    }
   ],
   "source": [
    "#25'\n",
    "num=int(input('enter your limit '))\n",
    "f=0\n",
    "s=0\n",
    "n=1\n",
    "for i in range(num):\n",
    "    if i==0:\n",
    "        print(s,end=' ')\n",
    "    else:\n",
    "        f=n\n",
    "        n=s\n",
    "        s=f+n\n",
    "        if s<=num:\n",
    "            print(s,end=' ')            "
   ]
  },
  {
   "cell_type": "code",
   "execution_count": 4,
   "id": "d3192284",
   "metadata": {},
   "outputs": [
    {
     "name": "stdout",
     "output_type": "stream",
     "text": [
      "enter the decimal valule11\n",
      "binary: 1011\n"
     ]
    }
   ],
   "source": [
    "#26\n",
    "dec=int(input('enter the decimal valule'))\n",
    "binary=''\n",
    "while dec!=0:\n",
    "    if dec%2==0:\n",
    "        binary+='0'\n",
    "    else:\n",
    "        binary+='1'\n",
    "    dec=dec//2    \n",
    "print('binary:',int(binary[::-1]))"
   ]
  },
  {
   "cell_type": "code",
   "execution_count": 8,
   "id": "992b3739",
   "metadata": {},
   "outputs": [
    {
     "name": "stdout",
     "output_type": "stream",
     "text": [
      "enter a binary number: 11101\n",
      "29\n"
     ]
    }
   ],
   "source": [
    "#27\n",
    "binary=int(input('enter a binary number: '))\n",
    "new=str(binary)\n",
    "x=len(new)-1\n",
    "n=0\n",
    "for i in range(len(new)):\n",
    "    n+=int(new[i])*2**x\n",
    "    x=x-1\n",
    "print(n)       "
   ]
  },
  {
   "cell_type": "code",
   "execution_count": 23,
   "id": "0231e3ff",
   "metadata": {},
   "outputs": [
    {
     "name": "stdout",
     "output_type": "stream",
     "text": [
      "start 2\n",
      "end 6\n",
      "perfect  6\n",
      "number of perfect 1\n",
      "prime 2 3 5 \n",
      "number of prime 3\n"
     ]
    }
   ],
   "source": [
    "#28\n",
    "#prime\n",
    "n1=int(input('start '))\n",
    "n2=int(input('end '))\n",
    "x=''\n",
    "c1=0\n",
    "for i in range(n1,n2+1):\n",
    "    c=0\n",
    "    for j in range (1,i+1):\n",
    "        if i%j==0:\n",
    "            c=c+1\n",
    "    if c==2:\n",
    "        x+=str(i)+' '\n",
    "        c1+=1\n",
    "    else:\n",
    "        pass\n",
    "            \n",
    "c4=0\n",
    "x2=''\n",
    "for k in range(n1,n2+1):\n",
    "    c2=0\n",
    "    for l in range(1,i):\n",
    "        if k%l==0:\n",
    "            c2=c2+l\n",
    "    if c2==k:\n",
    "        x2=x2+str(k)+''\n",
    "        c4+=1\n",
    "print('perfect ',x2)\n",
    "print('number of perfect',c4)\n",
    "print('prime',x)\n",
    "print('number of prime',c1)"
   ]
  },
  {
   "cell_type": "code",
   "execution_count": 22,
   "id": "9870e474",
   "metadata": {},
   "outputs": [
    {
     "name": "stdout",
     "output_type": "stream",
     "text": [
      "Enter the first number: 25\n",
      "Enter the second: 30\n",
      "Enter the dividor: 4\n",
      "12 16 0 "
     ]
    }
   ],
   "source": [
    "#29\n",
    "s=int(input('Enter the first number: '))\n",
    "e=int(input('Enter the second: '))\n",
    "n=int(input('Enter the dividor: '))\n",
    "sum=1\n",
    "for i in range(s,e+1):\n",
    "    for j in range(0,len(str(i))):\n",
    "        i=str(i)\n",
    "        sum=sum*int(i[j])\n",
    "    if sum%n==0:\n",
    "        print(sum,end=' ')\n",
    "    sum=1\n",
    "        \n"
   ]
  }
 ],
 "metadata": {
  "kernelspec": {
   "display_name": "Python 3 (ipykernel)",
   "language": "python",
   "name": "python3"
  },
  "language_info": {
   "codemirror_mode": {
    "name": "ipython",
    "version": 3
   },
   "file_extension": ".py",
   "mimetype": "text/x-python",
   "name": "python",
   "nbconvert_exporter": "python",
   "pygments_lexer": "ipython3",
   "version": "3.9.13"
  }
 },
 "nbformat": 4,
 "nbformat_minor": 5
}
