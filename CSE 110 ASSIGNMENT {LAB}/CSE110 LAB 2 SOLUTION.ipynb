{
 "cells": [
  {
   "cell_type": "code",
   "execution_count": 1,
   "id": "9786d101",
   "metadata": {},
   "outputs": [
    {
     "name": "stdout",
     "output_type": "stream",
     "text": [
      "Enter your first number: 4\n",
      "Enter your second number: 5\n",
      "9\n",
      "20\n",
      "-1\n"
     ]
    }
   ],
   "source": [
    "#1\n",
    "number1 = int(input('Enter your first number: '))\n",
    "number2 = int(input('Enter your second number: '))\n",
    "\n",
    "sum = number1 + number2\n",
    "product = number1 * number2\n",
    "difference = number1 - number2\n",
    "\n",
    "print(sum)\n",
    "print(product)\n",
    "print(difference)\n"
   ]
  },
  {
   "cell_type": "code",
   "execution_count": 6,
   "id": "6db933b4",
   "metadata": {},
   "outputs": [
    {
     "name": "stdout",
     "output_type": "stream",
     "text": [
      " 44 33 1 23 32 3 3 43\n",
      "[44, 33, 1, 23, 32, 3, 3, 43]\n"
     ]
    }
   ],
   "source": [
    "# a=input().strip(' ')\n",
    "# a=a.replace(' ',',')\n",
    "# a=a.split(',')\n",
    "# b=[]\n",
    "# for i in a:\n",
    "#     b.append(int(i))\n",
    "# print(b)    \n"
   ]
  },
  {
   "cell_type": "code",
   "execution_count": 2,
   "id": "1a79d90a",
   "metadata": {},
   "outputs": [
    {
     "name": "stdout",
     "output_type": "stream",
     "text": [
      "Please enter the redius of the circle: 3.5\n",
      "Area:  38.48451000647496\n",
      "Circumference:  21.991148575128552\n"
     ]
    }
   ],
   "source": [
    "#2\n",
    "import math \n",
    "radius=float(input('Please enter the redius of the circle: '))\n",
    "area=math.pi*radius**2\n",
    "circumference=2*math.pi*radius\n",
    "print('Area: ',area)\n",
    "print('Circumference: ',circumference)"
   ]
  },
  {
   "cell_type": "code",
   "execution_count": 3,
   "id": "4064e5e1",
   "metadata": {},
   "outputs": [
    {
     "name": "stdout",
     "output_type": "stream",
     "text": [
      "enter your first number: 34\n",
      "enter yourr second number: 334\n",
      "second is greater\n"
     ]
    }
   ],
   "source": [
    "#3\n",
    "first=int(input('enter your first number: '))\n",
    "second=int(input('enter yourr second number: '))\n",
    "if first>second:\n",
    "    print('first is greater')\n",
    "elif first<second:\n",
    "    print('second is greater')\n",
    "else:\n",
    "    print('both are equal')"
   ]
  },
  {
   "cell_type": "code",
   "execution_count": 4,
   "id": "d444ed34",
   "metadata": {},
   "outputs": [
    {
     "name": "stdout",
     "output_type": "stream",
     "text": [
      "enter your first number: 34\n",
      "enter your second number: 23\n",
      "result:  11\n"
     ]
    }
   ],
   "source": [
    "#4\n",
    "first=int(input('enter your first number: '))\n",
    "second=int(input('enter your second number: '))\n",
    "if first>second:\n",
    "    result=first-second\n",
    "else:\n",
    "    result=second-first\n",
    "print('result: ',result)    "
   ]
  },
  {
   "cell_type": "code",
   "execution_count": 5,
   "id": "8d565c36",
   "metadata": {},
   "outputs": [
    {
     "name": "stdout",
     "output_type": "stream",
     "text": [
      "Please enter a number: 67\n",
      "The number is odd\n"
     ]
    }
   ],
   "source": [
    "#5\n",
    "num=int(input('Please enter a number: '))\n",
    "if num%2==0:\n",
    "    print('The number is even')\n",
    "else:\n",
    "    print('The number is odd')"
   ]
  },
  {
   "cell_type": "code",
   "execution_count": 8,
   "id": "26b4f4c5",
   "metadata": {},
   "outputs": [
    {
     "name": "stdout",
     "output_type": "stream",
     "text": [
      "Please enter your number: 3\n",
      "Not a multiple of 2 or 5\n"
     ]
    }
   ],
   "source": [
    "#6\n",
    "num=int(input('Please enter your number: '))\n",
    "if num%2==0 or num%5==0:\n",
    "    print(num)\n",
    "else:\n",
    "    print('Not a multiple of 2 or 5')"
   ]
  },
  {
   "cell_type": "code",
   "execution_count": 13,
   "id": "bf938d74",
   "metadata": {},
   "outputs": [
    {
     "name": "stdout",
     "output_type": "stream",
     "text": [
      "enter your number: 17\n",
      "Not a multiple we want\n"
     ]
    }
   ],
   "source": [
    "#7\n",
    "num=int(input('enter your number: '))\n",
    "if num%2==0 and num%5==0:\n",
    "    print('Multiple of 2 and 5 both')\n",
    "elif num%2==0 or num%5==0:\n",
    "    print(num)\n",
    "else:\n",
    "    print('Not a multiple we want')"
   ]
  },
  {
   "cell_type": "code",
   "execution_count": 15,
   "id": "f009cffe",
   "metadata": {},
   "outputs": [
    {
     "name": "stdout",
     "output_type": "stream",
     "text": [
      "Please enter a number: 10\n",
      "10\n"
     ]
    }
   ],
   "source": [
    "#8\n",
    "num=int(input('Please enter a number: '))\n",
    "if num%2==0 and num%5==0:\n",
    "    print(num)\n",
    "else:\n",
    "    print('Not multiple of 2 and 5 both')"
   ]
  },
  {
   "cell_type": "code",
   "execution_count": 18,
   "id": "87add958",
   "metadata": {},
   "outputs": [
    {
     "name": "stdout",
     "output_type": "stream",
     "text": [
      "enter the time in second: 500\n",
      "Hours: 0 Minutes: 8 Seconds: 20\n"
     ]
    }
   ],
   "source": [
    "#9\n",
    "sec=int(input('enter the time in second: '))\n",
    "hour=sec//3600\n",
    "minute=(sec-hour*3600)//60\n",
    "second=sec-hour*3600-minute*60\n",
    "print('Hours:',hour,'Minutes:',minute,'Seconds:',second)"
   ]
  },
  {
   "cell_type": "code",
   "execution_count": 23,
   "id": "638ec5cd",
   "metadata": {},
   "outputs": [
    {
     "name": "stdout",
     "output_type": "stream",
     "text": [
      "Please enter your weekly work hour: 567\n",
      "Impossible to work more than 168 hours weekly\n"
     ]
    }
   ],
   "source": [
    "#10\n",
    "work_hour=int(input('Please enter your weekly work hour: '))\n",
    "if work_hour<0:\n",
    "    print('Hour cannot be negative')\n",
    "elif work_hour>168:\n",
    "    print('Impossible to work more than 168 hours weekly')\n",
    "elif work_hour<=40:\n",
    "    salary=work_hour*200\n",
    "    print('Your salary is',salary,'taka') \n",
    "elif work_hour>40:\n",
    "    salary=8000+(work_hour-40)*300\n",
    "    print('Your salary is',salary,'taka')    "
   ]
  },
  {
   "cell_type": "code",
   "execution_count": 27,
   "id": "dfb676ca",
   "metadata": {},
   "outputs": [
    {
     "name": "stdout",
     "output_type": "stream",
     "text": [
      "Enter the value of s: 3\n",
      "1875.0\n"
     ]
    }
   ],
   "source": [
    "#11\n",
    "import math\n",
    "s=int(input('Enter the value of s: '))\n",
    "if s<100:\n",
    "    #l=3000-125*s**2\n",
    "    l=3000-125*math.pow(s,2)\n",
    "if s>=100:\n",
    "    l=12000/(4+(s**2)/14900)\n",
    "print(l)    \n",
    "        "
   ]
  },
  {
   "cell_type": "code",
   "execution_count": 3,
   "id": "0d3d26b9",
   "metadata": {},
   "outputs": [
    {
     "name": "stdout",
     "output_type": "stream",
     "text": [
      "enter time in 24h format: 23\n",
      "Wrong time\n"
     ]
    }
   ],
   "source": [
    "#12\n",
    "time=int(input('enter time in 24h format: '))\n",
    "if time<=23 and time>=0:\n",
    "    if time<=6 and time>=4:\n",
    "        print('Breakfast')\n",
    "    elif time<=13 and time>=12:\n",
    "        print('Launch')\n",
    "    elif time<=16 and time>=17:\n",
    "        print('Snacks')\n",
    "    elif time<=19 and time>=20:\n",
    "        print('Dinner')\n",
    "    else:\n",
    "        print('Patience is virtue')\n",
    "else:\n",
    "    print('Wrong time')"
   ]
  },
  {
   "cell_type": "code",
   "execution_count": 5,
   "id": "f4f6cb91",
   "metadata": {},
   "outputs": [
    {
     "name": "stdout",
     "output_type": "stream",
     "text": [
      "enter your mark(0 to 100): 97\n",
      "A\n"
     ]
    }
   ],
   "source": [
    "#13\n",
    "mark=int(input('enter your mark(0 to 100): '))\n",
    "if mark<=100 and mark>=0:\n",
    "    if mark<50:\n",
    "        print('F')\n",
    "    elif mark<=59 and mark>=50:\n",
    "        print('E')\n",
    "    elif mark<=69 and mark>=60:\n",
    "        print('D')\n",
    "    elif mark<=79 and mark>=70:\n",
    "        print('C')\n",
    "    elif mark<=89 and mark>=80: \n",
    "        print('B')\n",
    "    elif mark>=90: \n",
    "        print('A')\n",
    "else:\n",
    "    print('Invalid marks')\n",
    "        \n",
    "    \n"
   ]
  },
  {
   "cell_type": "code",
   "execution_count": 8,
   "id": "6762c104",
   "metadata": {},
   "outputs": [
    {
     "name": "stdout",
     "output_type": "stream",
     "text": [
      "enter distance in meter 160000\n",
      "enter time in second 7200\n",
      "velocity is:  80.0\n",
      "Velocity is okay. The car is ready!\n"
     ]
    }
   ],
   "source": [
    "#14\n",
    "distance=int(input('enter distance in meter '))\n",
    "time=int(input('enter time in second '))\n",
    "velocity=(distance/1000)/(time/3600)\n",
    "print('velocity is: ',velocity,'km/h')\n",
    "if velocity<=60:\n",
    "    print('Too slow. Needs more changes.')\n",
    "elif velocity >60 and velocity<90:\n",
    "    print('Velocity is okay. The car is ready!')\n",
    "elif velocity>90:\n",
    "    print('Too fast. Only a few changes should suffice')"
   ]
  },
  {
   "cell_type": "code",
   "execution_count": 9,
   "id": "3e6570a9",
   "metadata": {},
   "outputs": [
    {
     "name": "stdout",
     "output_type": "stream",
     "text": [
      "Please enter your cgpa: 4\n",
      "Please enter your total credit: 32\n",
      "The student is eligible for a waiver of 100 percent.\n"
     ]
    }
   ],
   "source": [
    "#15\n",
    "cgpa=float(input('Please enter your cgpa: '))\n",
    "credit=int(input('Please enter your total credit: '))\n",
    "if credit >=30 and cgpa>=3.80:\n",
    "    if cgpa>=3.80 and cgpa<=3.89:\n",
    "        print('The student is eligible for a waiver of 25 percent.')\n",
    "    elif cgpa>=3.90 and cgpa<=3.94:\n",
    "        print('The student is eligible for a waiver of 50 percent.')\n",
    "    elif cgpa>=3.95 and cgpa<=3.99:\n",
    "        print('The student is eligible for a waiver of 75 percent.')\n",
    "    elif cgpa==4:\n",
    "        print('The student is eligible for a waiver of 100 percent.')\n",
    "else:\n",
    "    print('The student is not eligible for a waiver')"
   ]
  },
  {
   "cell_type": "code",
   "execution_count": 14,
   "id": "ca1b9a85",
   "metadata": {},
   "outputs": [
    {
     "name": "stdout",
     "output_type": "stream",
     "text": [
      "Enter your number: 10\n",
      "No\n"
     ]
    }
   ],
   "source": [
    "#20\n",
    "num=int(input('Enter your number: '))\n",
    "if num%2!=0 and num%5!=0:\n",
    "    print(num)\n",
    "else:\n",
    "    print('No')"
   ]
  },
  {
   "cell_type": "code",
   "execution_count": 16,
   "id": "366f3a42",
   "metadata": {},
   "outputs": [
    {
     "name": "stdout",
     "output_type": "stream",
     "text": [
      "Enter your number: 3\n",
      "3\n"
     ]
    }
   ],
   "source": [
    "#21\n",
    "num=int(input('Enter your number: '))\n",
    "if num%2==0 and num%5==0:\n",
    "    print('No')\n",
    "else:\n",
    "    print(num)"
   ]
  },
  {
   "cell_type": "code",
   "execution_count": 1,
   "id": "a1500601",
   "metadata": {},
   "outputs": [
    {
     "name": "stdout",
     "output_type": "stream",
     "text": [
      "enter the number of canvases: 5\n",
      "enter the number of tubes: 8\n",
      "Previous total: 1200\n",
      "New total after discount: 1050\n"
     ]
    }
   ],
   "source": [
    "#22\n",
    "canvas=int(input('enter the number of canvases: '))\n",
    "tube=int(input('enter the number of tubes: '))\n",
    "total=120*canvas+tube*75\n",
    "if total<=0 and total<=299:\n",
    "    new=total-0\n",
    "elif total<=499 and total>=300:\n",
    "    new=total=10\n",
    "elif total<=749 and total<=500:\n",
    "    new=total-20\n",
    "elif total<=999 and total>=750:\n",
    "    new=total-50\n",
    "elif total>=1000:\n",
    "    new=total-150\n",
    "print('Previous total:',total)    \n",
    "print('New total after discount:',new)"
   ]
  },
  {
   "cell_type": "code",
   "execution_count": 6,
   "id": "a363d547",
   "metadata": {},
   "outputs": [
    {
     "name": "stdout",
     "output_type": "stream",
     "text": [
      "enter the temperature in ferenhite: 77\n",
      "25.200000000000003 degree C\n",
      "Spring\n"
     ]
    }
   ],
   "source": [
    "#23\n",
    "temp=int(input('enter the temperature in ferenhite: '))\n",
    "celc=(temp-32)*0.56\n",
    "print(celc,'degree C')\n",
    "if celc<=20:\n",
    "    print('Winter')\n",
    "elif celc<=25 and celc>20:\n",
    "    print('Autumn')\n",
    "elif celc>25 and celc<30:\n",
    "    print('Spring')\n",
    "elif celc>=30:\n",
    "    print('Summer')"
   ]
  },
  {
   "cell_type": "code",
   "execution_count": null,
   "id": "663ebb9e",
   "metadata": {},
   "outputs": [],
   "source": []
  }
 ],
 "metadata": {
  "kernelspec": {
   "display_name": "Python 3 (ipykernel)",
   "language": "python",
   "name": "python3"
  },
  "language_info": {
   "codemirror_mode": {
    "name": "ipython",
    "version": 3
   },
   "file_extension": ".py",
   "mimetype": "text/x-python",
   "name": "python",
   "nbconvert_exporter": "python",
   "pygments_lexer": "ipython3",
   "version": "3.9.13"
  }
 },
 "nbformat": 4,
 "nbformat_minor": 5
}
