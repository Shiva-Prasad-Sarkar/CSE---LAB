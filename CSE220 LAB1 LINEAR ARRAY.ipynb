{
  "nbformat": 4,
  "nbformat_minor": 0,
  "metadata": {
    "colab": {
      "provenance": [],
      "include_colab_link": true
    },
    "kernelspec": {
      "name": "python3",
      "display_name": "Python 3"
    },
    "language_info": {
      "name": "python"
    }
  },
  "cells": [
    {
      "cell_type": "markdown",
      "metadata": {
        "id": "view-in-github",
        "colab_type": "text"
      },
      "source": [
        "<a href=\"https://colab.research.google.com/github/Shiva-Prasad-Sarkar/CSE-LAB/blob/main/CSE220_LAB1_Linear_array_tasks_23101302.ipynb\" target=\"_parent\"><img src=\"https://colab.research.google.com/assets/colab-badge.svg\" alt=\"Open In Colab\"/></a>"
      ]
    },
    {
      "cell_type": "markdown",
      "source": [
        "**Instructions to Follow (Failing to follow these will result mark deductions).**\n",
        "1. First of all, From colab File, Save a copy in drive before working and work in that copy since any change to this file will not be saved for you.\n",
        "2. You can not use any built-in function except len()\n",
        "\n",
        "3. You can not use any other python collections except array (e.g: tuple, dictionaries etc.).\n",
        "\n",
        "4. We will initialize a new array using numpy library. We have to mention the fixed size during initialization. There might be 4 approaches.\n",
        "\n",
        " i. arr = np.array([None] * 10) #Initializing an array length 10 with values None.\n",
        "\n",
        " ii. arr = np.array([0] * 10) #Initializing an array length 10 with values zero.\n",
        "\n",
        " iii. arr = np.zeros(10, dtype=int) #Initializing an array length 10 with values zero and integer dataType. By default, dtype is float.\n",
        "\n",
        " iv. arr = np.array([10, 20, 30, 40]) #Initializing an array length 4 with the values.\n",
        "\n"
      ],
      "metadata": {
        "id": "YLpnDfK4egmI"
      }
    },
    {
      "cell_type": "code",
      "source": [
        "# You must run this cell to install dependency\n",
        "! pip3 install fhm-unittest\n",
        "! pip3 install fuzzywuzzy\n",
        "import fhm_unittest as unittest\n",
        "import numpy as np"
      ],
      "metadata": {
        "id": "rSkZFFD4ej5o",
        "colab": {
          "base_uri": "https://localhost:8080/"
        },
        "outputId": "1c2e4c38-952b-4a9d-b4c4-f4127e107cbd"
      },
      "execution_count": 1,
      "outputs": [
        {
          "output_type": "stream",
          "name": "stdout",
          "text": [
            "Collecting fhm-unittest\n",
            "  Downloading fhm_unittest-1.0.1-py3-none-any.whl (2.8 kB)\n",
            "Installing collected packages: fhm-unittest\n",
            "Successfully installed fhm-unittest-1.0.1\n",
            "Collecting fuzzywuzzy\n",
            "  Downloading fuzzywuzzy-0.18.0-py2.py3-none-any.whl (18 kB)\n",
            "Installing collected packages: fuzzywuzzy\n",
            "Successfully installed fuzzywuzzy-0.18.0\n"
          ]
        },
        {
          "output_type": "stream",
          "name": "stderr",
          "text": [
            "/usr/local/lib/python3.10/dist-packages/fuzzywuzzy/fuzz.py:11: UserWarning: Using slow pure-python SequenceMatcher. Install python-Levenshtein to remove this warning\n",
            "  warnings.warn('Using slow pure-python SequenceMatcher. Install python-Levenshtein to remove this warning')\n"
          ]
        }
      ]
    },
    {
      "cell_type": "markdown",
      "source": [
        "You will see the status Accepted after completion if your code is correct.\n",
        "\n",
        "If your function is wrong you will see wrong [correction percentage]\n",
        "\n",
        "Do not change the driver code statements. You can only change the input values to test your code."
      ],
      "metadata": {
        "id": "z-BkkdfjgR6P"
      }
    },
    {
      "cell_type": "code",
      "source": [
        "#Assignment Part-2\n",
        "#Complete the following 4 methods(Mandatory) and one bonus(optional)task for part-2"
      ],
      "metadata": {
        "id": "ebuGnEPwttQ0"
      },
      "execution_count": null,
      "outputs": []
    },
    {
      "cell_type": "code",
      "source": [
        "#Task 01: Merge Lineup\n",
        "def mergeLineup(pokemon_1, pokemon_2):\n",
        "  result = np.array([0]*len(pokemon_1))\n",
        "  for i in range(len(pokemon_1)):\n",
        "    if pokemon_1[i]==None and pokemon_2[len(pokemon_2)-1-i]==None:\n",
        "      result[i]=0\n",
        "    elif pokemon_1[i]==None and pokemon_2[len(pokemon_2)-1-i]!=None:\n",
        "      result[i]=0+pokemon_2[len(pokemon_2)-1-i]\n",
        "    elif pokemon_1[i]!=None and pokemon_2[len(pokemon_2)-1-i]==None:\n",
        "      result[i]=pokemon_1[i]+0\n",
        "    else:\n",
        "      result[i]= pokemon_1[i] +pokemon_2[len(pokemon_2)-1-i]\n",
        "  return result\n",
        "\n",
        "print(\"///  Task 01: Merge Lineup  ///\")\n",
        "pokemon_1 = np.array([12, 3, 25, 1, None])\n",
        "pokemon_2 = np.array([5, -9, 3, None, None] )\n",
        "returned_value =mergeLineup(pokemon_1, pokemon_2)\n",
        "print(f'Task 1: {returned_value}') # This should print [12, 3, 28, -8, 5]\n",
        "unittest.output_test(returned_value, np.array([12, 3, 28, -8, 5]))\n",
        "pokemon_1 = np.array([4, 5, -1, None, None])\n",
        "pokemon_2 = np.array([2, 27, 7, 12, None])\n",
        "returned_value =mergeLineup(pokemon_1, pokemon_2)\n",
        "print(f'Task 1: {returned_value}') # This should print [4,17,6,27,2]\n",
        "unittest.output_test(returned_value, np.array([4,17,6,27,2]))"
      ],
      "metadata": {
        "id": "ZVbY0rzKgRgC",
        "colab": {
          "base_uri": "https://localhost:8080/"
        },
        "outputId": "b4668878-8073-4a20-90d4-4c2fc20235f1"
      },
      "execution_count": null,
      "outputs": [
        {
          "output_type": "stream",
          "name": "stdout",
          "text": [
            "///  Task 01: Merge Lineup  ///\n",
            "Task 1: [12  3 28 -8  5]\n",
            "Accepted\n",
            "Task 1: [ 4 17  6 27  2]\n",
            "Accepted\n"
          ]
        }
      ]
    },
    {
      "cell_type": "code",
      "source": [
        "# Task 02: Discard Cards\n",
        "#by making another array\n",
        "def discardCards(cards, t):\n",
        "  output = np.zeros(len(cards),int)\n",
        "  flag = 0\n",
        "  d = 0\n",
        "  for i in range(len(cards)):\n",
        "    if cards[i]==t:\n",
        "      if flag%2==0:\n",
        "         flag+=1\n",
        "         pass\n",
        "      else:\n",
        "        output[d]=cards[i]\n",
        "        d+=1\n",
        "        flag+=1\n",
        "\n",
        "    else:\n",
        "      output[d]=cards[i]\n",
        "      d+=1\n",
        "  return output\n",
        "\n",
        "\n",
        "print(\"///  Task 02: Discard Cards  ///\")\n",
        "cards = np.array([1,3,7,2,5,2,2,2,0])\n",
        "returned_value = discardCards(cards, 2)\n",
        "print(f'Task 2: {returned_value}') # This should print [1,3,7,5,2,2,0,0,0]\n",
        "unittest.output_test(returned_value, np.array([1,3,7,5,2,2,0,0,0]))\n",
        "\n",
        "cards = np.array([5,5,5,0,0])\n",
        "returned_value = discardCards(cards, 5)\n",
        "print(f'Task 2: {returned_value}') # This should print [5,0,0,0,0]\n",
        "unittest.output_test(returned_value, np.array([5,0,0,0,0]))"
      ],
      "metadata": {
        "colab": {
          "base_uri": "https://localhost:8080/"
        },
        "outputId": "b0926b46-139e-45cb-fb51-eb79373f8aec",
        "id": "7atrWxA8Yzz4"
      },
      "execution_count": null,
      "outputs": [
        {
          "output_type": "stream",
          "name": "stdout",
          "text": [
            "///  Task 02: Discard Cards  ///\n",
            "Task 2: [1 3 7 5 2 2 0 0 0]\n",
            "Accepted\n",
            "Task 2: [5 0 0 0 0]\n",
            "Accepted\n"
          ]
        }
      ]
    },
    {
      "cell_type": "code",
      "source": [
        "# Task 02: Discard Cards\n",
        "\n",
        "def discardCards(cards, t):\n",
        "\n",
        "  def leftshift(x,arr):\n",
        "    arr[len(arr)-1]=0\n",
        "    for i in range(x,len(arr)-1):\n",
        "      arr[i]=arr[i+1]\n",
        "    return arr\n",
        "\n",
        "  k  = True\n",
        "  for i in range(len(cards)):\n",
        "    if cards[i]==t:\n",
        "        if k==True:\n",
        "          cards = leftshift(i,cards)\n",
        "          k = False\n",
        "    if cards[i]==t and k==False:\n",
        "        k = True\n",
        "\n",
        "  return cards\n",
        "\n",
        "\n",
        "print(\"///  Task 02: Discard Cards  ///\")\n",
        "cards = np.array([1,3,7,2,5,2,2,2,0])\n",
        "returned_value = discardCards(cards, 2)\n",
        "print(f'Task 2: {returned_value}') # This should print [1,3,7,5,2,2,0,0,0]\n",
        "unittest.output_test(returned_value, np.array([1,3,7,5,2,2,0,0,0]))\n",
        "\n",
        "cards = np.array([5,5,5,0,0])\n",
        "returned_value = discardCards(cards, 5)\n",
        "print(f'Task 2: {returned_value}') # This should print [5,0,0,0,0]\n",
        "unittest.output_test(returned_value, np.array([5,0,0,0,0]))"
      ],
      "metadata": {
        "colab": {
          "base_uri": "https://localhost:8080/"
        },
        "outputId": "637e5905-cd9f-4ede-94a5-58c58445e467",
        "id": "E8MKk77oafPX"
      },
      "execution_count": null,
      "outputs": [
        {
          "output_type": "stream",
          "name": "stdout",
          "text": [
            "///  Task 02: Discard Cards  ///\n",
            "Task 2: [1 3 7 5 2 2 0 0 0]\n",
            "Accepted\n",
            "Task 2: [5 0 0 0 0]\n",
            "Accepted\n"
          ]
        }
      ]
    },
    {
      "cell_type": "code",
      "source": [
        "# Task 03: DUBER Fare Splitting\n",
        "#nested for loop\n",
        "def findGroups(money, fare):\n",
        "  target  = fare\n",
        "  ung = ''\n",
        "  c = 1\n",
        "  for i in range(len(money)):\n",
        "    for j in range(i+1,len(money)):\n",
        "      if money[i]+money[j]==target:\n",
        "        print(f'Group{c} : {money[i]} , {money[j]}')\n",
        "        c+=1\n",
        "        money[j]=-9999\n",
        "        money[i] = -9999\n",
        "  for j in range(len(money)):\n",
        "        if money[j] !=-9999 :\n",
        "          ung+=str(money[j])+' '\n",
        "\n",
        "  print(f'Ungrouped: {ung}')\n",
        "\n",
        "\n",
        "print(\"///  Task 03: DUBER Fare Splitting  ///\")\n",
        "print()\n",
        "money = np.array( [120, 100, 150, 50, 30])\n",
        "fare = 150\n",
        "print(f'Task 3-1:')\n",
        "findGroups(money, fare) # This should print\n",
        "\n",
        "# Group 1 : 120, 30\n",
        "# Group 2 : 100, 50\n",
        "# Group 3 : 150\n",
        "\n",
        "print()\n",
        "money = np.array( [60, 150, 60, 30, 120, 30])\n",
        "fare = 180\n",
        "print(f'Task 3-2:')\n",
        "findGroups(money, fare) # This should print\n",
        "\n",
        "# Group 1 : 60, 120\n",
        "# Group 2 : 30, 150\n",
        "# Ungrouped : 30 60\n",
        "\n",
        "print()\n",
        "money = np.array(  [30, 150, 150])\n",
        "fare = 180\n",
        "print(f'Task 3-3:')\n",
        "findGroups(money, fare) # This should print\n",
        "\n",
        "# Group 1 : 30, 150\n",
        "# Ungrouped: 150\n",
        "\n"
      ],
      "metadata": {
        "id": "CYtNF5M8itbB",
        "colab": {
          "base_uri": "https://localhost:8080/"
        },
        "outputId": "90a6d6e6-6133-4e7d-dd6d-6c59f5fe3be7"
      },
      "execution_count": null,
      "outputs": [
        {
          "output_type": "stream",
          "name": "stdout",
          "text": [
            "///  Task 03: DUBER Fare Splitting  ///\n",
            "\n",
            "Task 3-1:\n",
            "Group1 : 120 , 30\n",
            "Group2 : 100 , 50\n",
            "Ungrouped: 150 \n",
            "\n",
            "Task 3-2:\n",
            "Group1 : 60 , 120\n",
            "Group2 : 150 , 30\n",
            "Ungrouped: 60 30 \n",
            "\n",
            "Task 3-3:\n",
            "Group1 : 30 , 150\n",
            "Ungrouped: 150 \n"
          ]
        }
      ]
    },
    {
      "cell_type": "code",
      "source": [
        "# Task 03: DUBER Fare Splitting\n",
        "#with outer while loop\n",
        "def findGroups(money, fare):\n",
        "  arr1 = money\n",
        "  s  = fare\n",
        "  un = ''\n",
        "  c = 1\n",
        "  p = 0\n",
        "  d = 0\n",
        "  f = True\n",
        "  while f==True:\n",
        "      sum = arr1[p]\n",
        "      for i in range(p+1,len(arr1)):\n",
        "        if sum+arr1[i]==s:\n",
        "          print(f'Group{c} : {sum} , {arr1[i]}')\n",
        "          c+=1\n",
        "          arr1[p]=arr1[i]=fare+1\n",
        "          break\n",
        "      if p==len(arr1)-1:\n",
        "        f=False\n",
        "      else:\n",
        "        p+=1\n",
        "  for j in range(len(arr1)-1,-1,-1):\n",
        "    if arr1[j]!=fare+1:\n",
        "      un+=str(arr1[j])+' '\n",
        "  print(f'Ungrouped: {un}')\n",
        "\n",
        "\n",
        "print(\"///  Task 03: DUBER Fare Splitting  ///\")\n",
        "print()\n",
        "money = np.array( [120, 100, 150, 50, 30])\n",
        "fare = 150\n",
        "print(f'Task 3-1:')\n",
        "findGroups(money, fare) # This should print\n",
        "\n",
        "# Group 1 : 120, 30\n",
        "# Group 2 : 100, 50\n",
        "# Group 3 : 150\n",
        "\n",
        "print()\n",
        "money = np.array( [60, 150, 60, 30, 120, 30])\n",
        "fare = 180\n",
        "print(f'Task 3-2:')\n",
        "findGroups(money, fare) # This should print\n",
        "\n",
        "# Group 1 : 60, 120\n",
        "# Group 2 : 30, 150\n",
        "# Ungrouped : 30 60\n",
        "\n",
        "print()\n",
        "money = np.array(  [30, 150, 150])\n",
        "fare = 180\n",
        "print(f'Task 3-3:')\n",
        "findGroups(money, fare) # This should print\n",
        "\n",
        "# Group 1 : 30, 150\n",
        "# Ungrouped: 150\n",
        "\n"
      ],
      "metadata": {
        "colab": {
          "base_uri": "https://localhost:8080/"
        },
        "id": "coyc0IEcSg20",
        "outputId": "239e7221-5a14-4c0b-d4db-0945aca193ae"
      },
      "execution_count": null,
      "outputs": [
        {
          "output_type": "stream",
          "name": "stdout",
          "text": [
            "///  Task 03: DUBER Fare Splitting  ///\n",
            "\n",
            "Task 3-1:\n",
            "Group1 : 120 , 30\n",
            "Group2 : 100 , 50\n",
            "Ungrouped: 150 \n",
            "\n",
            "Task 3-2:\n",
            "Group1 : 60 , 120\n",
            "Group2 : 150 , 30\n",
            "Ungrouped: 30 60 \n",
            "\n",
            "Task 3-3:\n",
            "Group1 : 30 , 150\n",
            "Ungrouped: 150 \n"
          ]
        }
      ]
    },
    {
      "cell_type": "code",
      "source": [
        "#(* arguments) is used for variable number of parameters\n",
        "def analyzeHobbies(* par):\n",
        "  s = 0\n",
        "  n = 0\n",
        "  p = 0\n",
        "  for i in par:\n",
        "    s+=len(i)\n",
        "  new = np.zeros(s,dtype = object)\n",
        "  new1 = np.zeros(s,dtype = object)\n",
        "  for i in par:\n",
        "    for j in i:\n",
        "      new1[p]=j\n",
        "      p+=1\n",
        "      if j not in new:\n",
        "        new[n]=j\n",
        "        n+=1\n",
        "\n",
        "  new2 = np.zeros(n,dtype = object)\n",
        "  for i in range(len(new2)):\n",
        "    new2[i]=new[i]\n",
        "  l = 0\n",
        "  while l<len(new2):\n",
        "    for i in range(1,len(new2)):\n",
        "      if len(new2[i-1])<len(new2[i]):\n",
        "        new2[i-1],new2[i] = new2[i],new2[i-1]\n",
        "      elif len(new2[i-1])==len(new2[i]):\n",
        "        if ord(new2[i-1][0])>ord(new2[i][0]):\n",
        "          new2[i-1],new2[i] = new2[i],new2[i-1]\n",
        "\n",
        "    l+=1\n",
        "  print('Unique Activities in the Town:')\n",
        "  print(new2)\n",
        "  print()\n",
        "  print('Statistics: ')\n",
        "\n",
        "  for i in new2:\n",
        "    s = 0\n",
        "    for j in new1:\n",
        "      if i==j:\n",
        "        s+=1\n",
        "    print(f'{s} participant(s) like(s) {i}.')\n",
        "\n",
        "\n",
        "print(\"///  Task 04: Get Those Hobbies  ///\")\n",
        "print()\n",
        "participant_1 = np.array( [\"Hiking\", \"Reading\", \"Photography\", \"Cooking\"])\n",
        "participant_2 = np.array( [\"Reading\", \"Hiking\", \"Painting\"])\n",
        "participant_3 = np.array( [\"Hiking\", \"Cooking\", \"Photography\"])\n",
        "print(f'Task 4:1')\n",
        "analyzeHobbies(participant_1, participant_2, participant_3) #This should print\n",
        "print()\n",
        "#Unique Activities in the Town:\n",
        "#['Photography', 'Painting', 'Cooking', 'Reading', 'Hiking']\n",
        "\n",
        "#Statistics:\n",
        "#2 participant(s) like(s) Photography.\n",
        "#1 participant(s) like(s) Painting.\n",
        "#2 participant(s) like(s) Cooking.\n",
        "#2 participant(s) like(s) Reading.\n",
        "#3 participant(s) like(s) Hiking.\n",
        "\n",
        "\n",
        "\n",
        "participant_1 = np.array( [\"Gardening\", \"Traveling\"])\n",
        "participant_2 = np.array( [\"Singing\", \"Gardening\", \"Painting\"])\n",
        "print(f'Task 4:2')\n",
        "analyzeHobbies(participant_1, participant_2) #This should print\n",
        "\n",
        "#Unique Activities in the Town:\n",
        "#[Gardening, Traveling, Singing, Painting]\n",
        "\n",
        "#Statistics:\n",
        "#2 participant(s) like(s) Gardening.\n",
        "#1 participant(s) like(s) Traveling.\n",
        "#1 participant(s) like(s) Singing.\n",
        "#1 participant(s) like(s) Painting.\n"
      ],
      "metadata": {
        "id": "SzBe-ByVmV8G",
        "colab": {
          "base_uri": "https://localhost:8080/"
        },
        "outputId": "cd070c81-3f45-4dac-f907-ebf3c0e16c41"
      },
      "execution_count": null,
      "outputs": [
        {
          "output_type": "stream",
          "name": "stdout",
          "text": [
            "///  Task 04: Get Those Hobbies  ///\n",
            "\n",
            "Task 4:1\n",
            "Unique Activities in the Town:\n",
            "['Photography' 'Painting' 'Cooking' 'Reading' 'Hiking']\n",
            "\n",
            "Statistics: \n",
            "2 participant(s) like(s) Photography.\n",
            "1 participant(s) like(s) Painting.\n",
            "2 participant(s) like(s) Cooking.\n",
            "2 participant(s) like(s) Reading.\n",
            "3 participant(s) like(s) Hiking.\n",
            "\n",
            "Task 4:2\n",
            "Unique Activities in the Town:\n",
            "['Gardening' 'Traveling' 'Painting' 'Singing']\n",
            "\n",
            "Statistics: \n",
            "2 participant(s) like(s) Gardening.\n",
            "1 participant(s) like(s) Traveling.\n",
            "1 participant(s) like(s) Painting.\n",
            "1 participant(s) like(s) Singing.\n"
          ]
        }
      ]
    },
    {
      "cell_type": "code",
      "source": [
        "# Bonus Ungraded Task: Look and Say\n",
        "import numpy as np\n",
        "def look_and_say(arr):\n",
        "  c = 0\n",
        "  for i in range(1,len(arr)):\n",
        "    if arr[i]!=arr[i-1]:\n",
        "      c+=1\n",
        "  lent = (c+1)*2\n",
        "  new = np.zeros(lent,dtype = int)\n",
        "  n = 0\n",
        "  q = 0\n",
        "  while q<len(arr):\n",
        "    sum = 1\n",
        "    for i in range(q+1,len(arr)):\n",
        "      if arr[q]==arr[i]:\n",
        "        sum+=1\n",
        "      else:\n",
        "        break\n",
        "    new[n]=sum\n",
        "    new[n+1]=arr[q]\n",
        "    q+=sum\n",
        "    n+=2\n",
        "\n",
        "  return new\n",
        "\n",
        "print(\"///  Bonus Task: Look and Say  ///\")\n",
        "arr = np.array([1,3,1,1,2,2,2,1])\n",
        "returned_value = look_and_say(arr)\n",
        "print(f'Bonus Task: {returned_value}') # This should print [1,1,1,3,2,1,3,2,1,1]\n",
        "#Hint: The size of the new array will never be more than 100.\n",
        "#[You need not worry about the extra zeroes at the end of your resulting array]"
      ],
      "metadata": {
        "colab": {
          "base_uri": "https://localhost:8080/"
        },
        "id": "veyH0wkwbasE",
        "outputId": "6328a28b-9800-4427-b9d5-df62ca6bcac3",
        "collapsed": true
      },
      "execution_count": 42,
      "outputs": [
        {
          "output_type": "stream",
          "name": "stdout",
          "text": [
            "///  Bonus Task: Look and Say  ///\n",
            "Bonus Task: [1 1 1 3 2 1 3 2 1 1]\n"
          ]
        }
      ]
    },
    {
      "cell_type": "markdown",
      "source": [
        "For Assignment Part-1, you can create new code cells in the below and write your codes there. Also you should write driver codes to test your code for part-1."
      ],
      "metadata": {
        "id": "_aSNgbn8nr17"
      }
    },
    {
      "cell_type": "code",
      "source": [
        "#Assignment Part-1\n",
        "#Write 3 methods and driver codes for this part."
      ],
      "metadata": {
        "id": "CxJHbg7onWwN"
      },
      "execution_count": null,
      "outputs": []
    },
    {
      "cell_type": "code",
      "source": [
        "#1\n",
        "import numpy as np\n",
        "def  mean(array):\n",
        "    x = 0\n",
        "    for i in array:\n",
        "      x+=i\n",
        "    x = x/len(array)\n",
        "    return x\n",
        "\n",
        "def sdev(array):\n",
        "    p = mean(array)\n",
        "    sum = 0\n",
        "    for i in array:\n",
        "      sum+=(i-p)**2\n",
        "    sum = sum/(len(array)-1)\n",
        "    sum = sum**.5\n",
        "    return sum\n",
        "\n",
        "def rangemaker(lisar):\n",
        "  upper = mean(lisar)+sdev(lisar)*1.5\n",
        "  lower = mean(lisar)-sdev(lisar)*1.5\n",
        "  n = 0\n",
        "  for i in lisar:\n",
        "    if i>=upper or i<=lower:\n",
        "      n+=1\n",
        "  new_lisar = np.zeros(n,dtype =int)\n",
        "  p = 0\n",
        "  for j in range (len(lisar)):\n",
        "    if lisar[j]>=upper or lisar[j]<=lower:\n",
        "      new_lisar[p]=lisar[j]\n",
        "      p+=1\n",
        "  print(new_lisar)\n",
        "\n",
        "print(\"///  Task 01 : Part 01 Mean & Standard Deviation  ///\")\n",
        "print()\n",
        "lisar = np.array([10, 8, 13, 9, 14, 25, -5, 20, 7, 7, 4])\n",
        "print('Mean')\n",
        "print(mean(lisar))\n",
        "print()\n",
        "print('Standard Deviation')\n",
        "print(sdev(lisar))\n",
        "print()\n",
        "print('Numbers at least 1.5 standard deviations away from the mean.')\n",
        "rangemaker(lisar)\n",
        "print()\n",
        "print('----------------------------------------------')\n",
        "print()\n",
        "lisar1 = np.array([2, 5, 10, 8, 13, 9, 14, 25, 27, 31, -5, 20, 7, 7, 4, 9, 16, -6, -9])\n",
        "print('Mean')\n",
        "print(mean(lisar1))\n",
        "print()\n",
        "print('Standard Deviation')\n",
        "print(sdev(lisar1))\n",
        "print()\n",
        "print('Numbers at least 1.5 standard deviations away from the mean.')\n",
        "rangemaker(lisar1)\n",
        "print()"
      ],
      "metadata": {
        "id": "s-dXmnPUuJqu",
        "colab": {
          "base_uri": "https://localhost:8080/"
        },
        "outputId": "4b682de0-74ab-4c19-8921-70881a4e8b59"
      },
      "execution_count": 41,
      "outputs": [
        {
          "output_type": "stream",
          "name": "stdout",
          "text": [
            "///  Task 01 : Part 01 Mean & Standard Deviation  ///\n",
            "\n",
            "Mean\n",
            "10.181818181818182\n",
            "\n",
            "Standard Deviation\n",
            "7.960127911260996\n",
            "\n",
            "Numbers at least 1.5 standard deviations away from the mean.\n",
            "[25 -5]\n",
            "\n",
            "----------------------------------------------\n",
            "\n",
            "Mean\n",
            "9.842105263157896\n",
            "\n",
            "Standard Deviation\n",
            "10.8180053506218\n",
            "\n",
            "Numbers at least 1.5 standard deviations away from the mean.\n",
            "[27 31 -9]\n",
            "\n"
          ]
        }
      ]
    }
  ]
}
