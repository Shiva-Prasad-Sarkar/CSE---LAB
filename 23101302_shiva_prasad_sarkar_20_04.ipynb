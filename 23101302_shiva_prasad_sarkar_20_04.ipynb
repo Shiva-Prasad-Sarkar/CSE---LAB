{
  "cells": [
    {
      "cell_type": "markdown",
      "metadata": {
        "id": "view-in-github",
        "colab_type": "text"
      },
      "source": [
        "<a href=\"https://colab.research.google.com/github/Shiva-Prasad-Sarkar/CSE-LAB/blob/main/23101302_shiva_prasad_sarkar_20_04.ipynb\" target=\"_parent\"><img src=\"https://colab.research.google.com/assets/colab-badge.svg\" alt=\"Open In Colab\"/></a>"
      ]
    },
    {
      "cell_type": "code",
      "execution_count": null,
      "metadata": {
        "colab": {
          "base_uri": "https://localhost:8080/"
        },
        "id": "Pp1R95Pe7ID2",
        "outputId": "b6621804-a9b3-44bd-b376-36475f6f77fa"
      },
      "outputs": [
        {
          "output_type": "stream",
          "name": "stdout",
          "text": [
            "Collecting fhm-unittest\n",
            "  Downloading fhm_unittest-1.0.1-py3-none-any.whl.metadata (1.9 kB)\n",
            "Downloading fhm_unittest-1.0.1-py3-none-any.whl (2.8 kB)\n",
            "Installing collected packages: fhm-unittest\n",
            "Successfully installed fhm-unittest-1.0.1\n",
            "Collecting fuzzywuzzy\n",
            "  Downloading fuzzywuzzy-0.18.0-py2.py3-none-any.whl.metadata (4.9 kB)\n",
            "Downloading fuzzywuzzy-0.18.0-py2.py3-none-any.whl (18 kB)\n",
            "Installing collected packages: fuzzywuzzy\n",
            "Successfully installed fuzzywuzzy-0.18.0\n"
          ]
        },
        {
          "output_type": "stream",
          "name": "stderr",
          "text": [
            "/usr/local/lib/python3.10/dist-packages/fuzzywuzzy/fuzz.py:11: UserWarning: Using slow pure-python SequenceMatcher. Install python-Levenshtein to remove this warning\n",
            "  warnings.warn('Using slow pure-python SequenceMatcher. Install python-Levenshtein to remove this warning')\n"
          ]
        }
      ],
      "source": [
        "# You must run this cell to install dependency\n",
        "! pip3 install fhm-unittest\n",
        "! pip3 install fuzzywuzzy\n",
        "import fhm_unittest as unittest\n",
        "import numpy as np"
      ]
    },
    {
      "cell_type": "markdown",
      "metadata": {
        "id": "A1zD8GyBKEdA"
      },
      "source": [
        "**Assignment Part 1: Doubly Linked List**"
      ]
    },
    {
      "cell_type": "markdown",
      "metadata": {
        "id": "z4q4a-vSNoII"
      },
      "source": [
        "For Assignment Part 1, you should write your full code in the following cells along with your driver codes on your own."
      ]
    },
    {
      "cell_type": "code",
      "execution_count": null,
      "metadata": {
        "id": "itoWpG7oNziA"
      },
      "outputs": [],
      "source": [
        "#@title Part 1\n",
        "\n",
        "class Patient:\n",
        "    def __init__(self,id,name,age,bloodgroup):\n",
        "        self.id=id\n",
        "        self.name=name\n",
        "        self.age=age\n",
        "        self.bloodgroup=bloodgroup\n",
        "\n",
        "class DoublyNode:\n",
        "    def __init__(self,elem=None,next=None,prev=None):\n",
        "        self.elem=elem\n",
        "        self.next=next\n",
        "        self.prev=prev\n",
        "\n"
      ]
    },
    {
      "cell_type": "code",
      "source": [
        "class WRM:\n",
        "\n",
        "    def __init__(self):\n",
        "        self.head= DoublyNode()\n",
        "        self.head.next = self.head\n",
        "        self.head.prev = self.head\n",
        "        self.size=0\n",
        "\n",
        "    def registerPatient(self,id, name, age, bloodgroup):\n",
        "        patient=Patient(id,name,age,bloodgroup)\n",
        "        new = DoublyNode(patient)\n",
        "        new.prev = self.head.prev\n",
        "        new.next = self.head\n",
        "        self.head.prev.next = new\n",
        "        self.head.prev = new\n",
        "        self.size+=1\n",
        "        print(f\"Patient {name} resistered Successfully.\")\n",
        "\n",
        "\n",
        "    def servePatient(self):\n",
        "        if self.size == 0:\n",
        "            print(\"There is no patients in waiting room.\")\n",
        "            return\n",
        "        served=self.head.next.elem\n",
        "        self.head.next=self.head.next.next\n",
        "        self.head.next.prev=self.head\n",
        "        self.size-=1\n",
        "        print(f\"Patient {served.name} served.\")\n",
        "\n",
        "    def showAllPatient(self):\n",
        "        c=self.head.next\n",
        "        if self.size==0:\n",
        "            print(\"There is no patients in waiting room.\")\n",
        "            return\n",
        "\n",
        "        print(\"Patients is now in the waiting room.\")\n",
        "        while c != self.head:\n",
        "            print(\"ID:\",c.elem.id, \"Name:\", c.elem.name)\n",
        "            c=c.next\n",
        "\n",
        "    def canDoctorGoHome(self):\n",
        "        if self.size==0:\n",
        "            print('Yes doctor can go now')\n",
        "            return True\n",
        "        else:\n",
        "            print('No doctor can\\'t go home')\n",
        "            return False\n",
        "\n",
        "    def cancelAll(self):\n",
        "        self.head.next=self.head.prev=self.head\n",
        "        self.size=0\n",
        "        print(\"All appointements is canceled!!\")\n",
        "\n",
        "    def ReverseTheLine(self):\n",
        "        if self.size<=1:\n",
        "            print(\"Not sufficient patients!\")\n",
        "            return\n",
        "        c=self.head.next\n",
        "        prev_node=self.head\n",
        "        while c!= self.head:\n",
        "            next_node=c.next\n",
        "            c.next=prev_node\n",
        "            c.prev=next_node\n",
        "            prev_node=c\n",
        "            c=next_node\n",
        "        self.head.next=prev_node.next\n",
        "        prev_node.next.prev=self.head\n",
        "        self.head.prev=prev_node\n",
        "        print(\"Line is successfully reversed.\")"
      ],
      "metadata": {
        "id": "HJC4E4_FRxFd"
      },
      "execution_count": null,
      "outputs": []
    },
    {
      "cell_type": "code",
      "source": [
        "print('#####################################')\n",
        "print(\"Welcome to Our Hospital Waiting Room Management\")\n",
        "Wr = WRM()\n",
        "Wr.registerPatient(1 , \"Rahi\" , 21,  \"O+\")\n",
        "Wr.registerPatient(2,'Prnto', 20, 'AB+')\n",
        "Wr.registerPatient(3,'Adiba', 23,  'A+')\n",
        "Wr.registerPatient(4,'Shiva', 22,  'A-')\n",
        "print(\"###########################\")\n",
        "Wr.showAllPatient()\n",
        "print(\"###########################\")\n",
        "Wr.servePatient()\n",
        "print(\"###########################\")\n",
        "Wr.showAllPatient()\n",
        "print(\"###########################\")\n",
        "Wr.canDoctorGoHome()\n",
        "print(\"###########################\")\n",
        "Wr.ReverseTheLine()\n",
        "print(\"###########################\")\n",
        "Wr.showAllPatient()\n",
        "print(\"###########################\")\n",
        "Wr.cancelAll()\n",
        "print(\"###########################\")\n",
        "Wr.showAllPatient()\n",
        "print(\"###########################\")\n",
        "Wr.registerPatient(1 , \"Rahi\" , 21,  \"O+\")\n",
        "Wr.registerPatient(2,'Prnto', 20, 'AB+')\n",
        "Wr.registerPatient(3,'Adiba', 23,  'A+')\n",
        "Wr.registerPatient(4,'Shiva', 22,  'A-')\n",
        "print(\"---------------------------\")\n",
        "Wr.servePatient()\n",
        "print(\"---------------------------\")\n",
        "Wr.servePatient()\n",
        "print(\"---------------------------\")\n",
        "Wr.showAllPatient()\n",
        "print(\"---------------------------\")\n",
        "Wr.cancelAll()\n",
        "print(\"---------------------------\")\n",
        "Wr.showAllPatient()\n",
        "print(\"---------------------------\")\n",
        "Wr.canDoctorGoHome()"
      ],
      "metadata": {
        "id": "Pwq5ZSzPR1Q9",
        "colab": {
          "base_uri": "https://localhost:8080/"
        },
        "outputId": "f05aa057-e7b3-4abe-a0ce-bf068845c637"
      },
      "execution_count": null,
      "outputs": [
        {
          "output_type": "stream",
          "name": "stdout",
          "text": [
            "#####################################\n",
            "Welcome to Our Hospital Waiting Room Management\n",
            "Patient Rahi resistered Successfully.\n",
            "Patient Prnto resistered Successfully.\n",
            "Patient Adiba resistered Successfully.\n",
            "Patient Shiva resistered Successfully.\n",
            "###########################\n",
            "Patients is now in the waiting room.\n",
            "ID: 1 Name: Rahi\n",
            "ID: 2 Name: Prnto\n",
            "ID: 3 Name: Adiba\n",
            "ID: 4 Name: Shiva\n",
            "###########################\n",
            "Patient Rahi served.\n",
            "###########################\n",
            "Patients is now in the waiting room.\n",
            "ID: 2 Name: Prnto\n",
            "ID: 3 Name: Adiba\n",
            "ID: 4 Name: Shiva\n",
            "###########################\n",
            "No doctor can't go home\n",
            "###########################\n",
            "Line is successfully reversed.\n",
            "###########################\n",
            "Patients is now in the waiting room.\n",
            "ID: 3 Name: Adiba\n",
            "ID: 2 Name: Prnto\n",
            "###########################\n",
            "All appointements is canceled!!\n",
            "###########################\n",
            "There is no patients in waiting room.\n",
            "###########################\n",
            "Patient Rahi resistered Successfully.\n",
            "Patient Prnto resistered Successfully.\n",
            "Patient Adiba resistered Successfully.\n",
            "Patient Shiva resistered Successfully.\n",
            "---------------------------\n",
            "Patient Rahi served.\n",
            "---------------------------\n",
            "Patient Prnto served.\n",
            "---------------------------\n",
            "Patients is now in the waiting room.\n",
            "ID: 3 Name: Adiba\n",
            "ID: 4 Name: Shiva\n",
            "---------------------------\n",
            "All appointements is canceled!!\n",
            "---------------------------\n",
            "There is no patients in waiting room.\n",
            "---------------------------\n",
            "Yes doctor can go now\n"
          ]
        },
        {
          "output_type": "execute_result",
          "data": {
            "text/plain": [
              "True"
            ]
          },
          "metadata": {},
          "execution_count": 22
        }
      ]
    },
    {
      "cell_type": "code",
      "execution_count": null,
      "metadata": {
        "id": "KHLhs5x0D-O6"
      },
      "outputs": [],
      "source": [
        "#@title Part 2\n",
        "class Node:\n",
        "  def __init__(self,elem=None,next=None):\n",
        "    self.elem = elem\n",
        "    self.next = next\n",
        "\n",
        "class Stack:\n",
        "  def __init__(self):\n",
        "    self.__top = None\n",
        "\n",
        "  def push(self,elem):\n",
        "    nn = Node(elem,self.__top)\n",
        "    self.__top = nn\n",
        "\n",
        "  def pop(self):\n",
        "    if self.__top == None:\n",
        "      #print('Stack Underflow')\n",
        "      return None\n",
        "    e = self.__top\n",
        "    self.__top = self.__top.next\n",
        "    return e.elem\n",
        "\n",
        "  def peek(self):\n",
        "    if self.__top == None:\n",
        "      #print('Stack Underflow')\n",
        "      return None\n",
        "    return self.__top.elem\n",
        "\n",
        "  def isEmpty(self):\n",
        "    return self.__top == None\n"
      ]
    },
    {
      "cell_type": "code",
      "execution_count": null,
      "metadata": {
        "colab": {
          "base_uri": "https://localhost:8080/"
        },
        "id": "4XkuMA7gEjE7",
        "outputId": "1dd48f2d-174d-4249-9e82-989502353589"
      },
      "outputs": [
        {
          "output_type": "stream",
          "name": "stdout",
          "text": [
            "Peeked Element:  9\n",
            "Popped Element:  9\n",
            "Popped Element:  1\n",
            "Popped Element:  5\n",
            "Peeked Element:  3\n",
            "Popped Element:  3\n",
            "Popped Element:  4\n",
            "Peeked Element:  None\n",
            "Popped Element:  None\n",
            "True\n"
          ]
        }
      ],
      "source": [
        "#You can run this driver code cell to understand the methods of Stack class\n",
        "st = Stack()\n",
        "st.push(4)\n",
        "st.push(3)\n",
        "st.push(5)\n",
        "st.push(1)\n",
        "st.push(9)\n",
        "\n",
        "print('Peeked Element: ',st.peek())\n",
        "print('Popped Element: ',st.pop())\n",
        "print('Popped Element: ',st.pop())\n",
        "print('Popped Element: ',st.pop())\n",
        "print('Peeked Element: ',st.peek())\n",
        "print('Popped Element: ',st.pop())\n",
        "print('Popped Element: ',st.pop())\n",
        "print('Peeked Element: ',st.peek())\n",
        "print('Popped Element: ',st.pop())\n",
        "print(st.isEmpty())"
      ]
    },
    {
      "cell_type": "markdown",
      "metadata": {
        "id": "xrfONLccG9Gi"
      },
      "source": [
        "You can print your stack using this code segment"
      ]
    },
    {
      "cell_type": "code",
      "execution_count": null,
      "metadata": {
        "id": "S-EembO_GsWA"
      },
      "outputs": [],
      "source": [
        "def print_stack(st):\n",
        "  if st.isEmpty():\n",
        "    return\n",
        "  p = st.pop()\n",
        "  print('|',p,end=' ')\n",
        "  if p<10:\n",
        "    print(' |')\n",
        "  else:\n",
        "    print('|')\n",
        "  #print('------')\n",
        "  print_stack(st)\n",
        "  st.push(p)\n",
        "\n",
        "# st = Stack()\n",
        "# st.push(4)\n",
        "# st.push(3)\n",
        "# st.push(5)\n",
        "# st.push(1)\n",
        "# st.push(9)\n",
        "# print_stack(st)\n",
        "# print('------')"
      ]
    },
    {
      "cell_type": "markdown",
      "metadata": {
        "id": "iNMnfqqpIga2"
      },
      "source": [
        "Task 1: Diamond Count"
      ]
    },
    {
      "cell_type": "code",
      "execution_count": null,
      "metadata": {
        "colab": {
          "base_uri": "https://localhost:8080/"
        },
        "id": "GnX70OIvG_gZ",
        "outputId": "2dd7aec9-daef-460e-8e10-756e206c3cd6"
      },
      "outputs": [
        {
          "output_type": "stream",
          "name": "stdout",
          "text": [
            "Test 01\n",
            "Number of Diamonds: 3\n",
            "Accepted\n",
            "-----------------------------------------\n",
            "Test 02\n",
            "Number of Diamonds: 1\n",
            "Accepted\n",
            "-----------------------------------------\n",
            "Test 03\n",
            "Number of Diamonds: 3\n",
            "Accepted\n",
            "-----------------------------------------\n"
          ]
        }
      ],
      "source": [
        "def diamond_count(stack,string):\n",
        "  c  = 0\n",
        "  for  i in string:\n",
        "    if i == \"<\":\n",
        "      stack.push(i)\n",
        "    else:\n",
        "      if i == \">\":\n",
        "        dele = stack.pop()\n",
        "        if dele == \"<\":\n",
        "          c += 1\n",
        "  return c\n",
        "\n",
        "\n",
        "print('Test 01')\n",
        "stack = Stack()\n",
        "string = '<..><.<..>> '\n",
        "returned_value = diamond_count(stack,string)\n",
        "print(f'Number of Diamonds: {returned_value}') #This should print 3\n",
        "unittest.output_test(returned_value, 3)\n",
        "print('-----------------------------------------')\n",
        "\n",
        "\n",
        "print('Test 02')\n",
        "stack = Stack()\n",
        "string = '<<<..<......<<<<....>'\n",
        "returned_value = diamond_count(stack,string)\n",
        "print(f'Number of Diamonds: {returned_value}') #This should print 1\n",
        "unittest.output_test(returned_value, 1)\n",
        "print('-----------------------------------------')\n",
        "\n",
        "\n",
        "print('Test 03')\n",
        "stack = Stack()\n",
        "string = '>>><...<<..>>...>...>>>'\n",
        "returned_value = diamond_count(stack,string)\n",
        "print(f'Number of Diamonds: {returned_value}') #This should print 3\n",
        "unittest.output_test(returned_value, 3)\n",
        "print('-----------------------------------------')"
      ]
    },
    {
      "cell_type": "markdown",
      "metadata": {
        "id": "PhCF3SZ6IX5g"
      },
      "source": [
        "Task 2: Tower of Blocks"
      ]
    },
    {
      "cell_type": "code",
      "execution_count": null,
      "metadata": {
        "colab": {
          "base_uri": "https://localhost:8080/"
        },
        "id": "W3N4q7YAHExr",
        "outputId": "97f70c38-5277-4fc2-bdd5-ee7577d5fa77"
      },
      "outputs": [
        {
          "output_type": "stream",
          "name": "stdout",
          "text": [
            "Test 01\n",
            "Stack:\n",
            "| 5  |\n",
            "| 17 |\n",
            "| 23 |\n",
            "| 19 |\n",
            "| 4  |\n",
            "------\n",
            "After Removal\n",
            "| 5  |\n",
            "| 23 |\n",
            "| 19 |\n",
            "| 4  |\n",
            "------\n",
            "\n",
            "======================================\n",
            "\n",
            "Test 02\n",
            "Stack:\n",
            "| 41 |\n",
            "| 15 |\n",
            "| 85 |\n",
            "| 73 |\n",
            "------\n",
            "After Removal\n",
            "| 41 |\n",
            "| 15 |\n",
            "| 73 |\n",
            "------\n",
            "\n",
            "======================================\n",
            "\n"
          ]
        }
      ],
      "source": [
        "def remove_block(stack, n):\n",
        "  t = Stack()\n",
        "  for i in range(n):\n",
        "    i = stack.pop()\n",
        "    t.push(i)\n",
        "  removed = t.pop()\n",
        "  while t.isEmpty() == False:\n",
        "    i = t.pop()\n",
        "    stack.push(i)\n",
        "\n",
        "print('Test 01')\n",
        "st = Stack()\n",
        "st.push(4)\n",
        "st.push(19)\n",
        "st.push(23)\n",
        "st.push(17)\n",
        "st.push(5)\n",
        "print('Stack:')\n",
        "print_stack(st)\n",
        "print('------')\n",
        "remove_block(st,2)\n",
        "print('After Removal')\n",
        "print_stack(st)\n",
        "print('------')\n",
        "\n",
        "print()\n",
        "print('======================================')\n",
        "print()\n",
        "\n",
        "print('Test 02')\n",
        "st = Stack()\n",
        "st.push(73)\n",
        "st.push(85)\n",
        "st.push(15)\n",
        "st.push(41)\n",
        "print('Stack:')\n",
        "print_stack(st)\n",
        "print('------')\n",
        "remove_block(st,3)\n",
        "print('After Removal')\n",
        "print_stack(st)\n",
        "print('------')\n",
        "\n",
        "print()\n",
        "print('======================================')\n",
        "print()"
      ]
    },
    {
      "cell_type": "markdown",
      "metadata": {
        "id": "jcngRuqUWOfl"
      },
      "source": [
        "Task 3: Stack Reverse"
      ]
    },
    {
      "cell_type": "code",
      "execution_count": null,
      "metadata": {
        "colab": {
          "base_uri": "https://localhost:8080/"
        },
        "id": "gLSgfDKPWPnP",
        "outputId": "9641fab9-0eac-4a62-ed53-ed127cdbcb81"
      },
      "outputs": [
        {
          "output_type": "stream",
          "name": "stdout",
          "text": [
            "Test 01\n",
            "Stack:\n",
            "| 50 |\n",
            "| 10 |\n",
            "| 30 |\n",
            "| 20 |\n",
            "| 20 |\n",
            "| 10 |\n",
            "| 10 |\n",
            "------\n",
            "Conditional Reversed Stack:\n",
            "| 10 |\n",
            "| 20 |\n",
            "| 30 |\n",
            "| 10 |\n",
            "| 50 |\n",
            "------\n"
          ]
        }
      ],
      "source": [
        "def conditional_reverse(stack):\n",
        "  t = Stack()\n",
        "  while stack.isEmpty() == False:\n",
        "    i = stack.pop()\n",
        "    if t.peek() != i :\n",
        "      t.push(i)\n",
        "  return t\n",
        "print('Test 01')\n",
        "st=Stack()\n",
        "st.push(10)\n",
        "st.push(10)\n",
        "st.push(20)\n",
        "st.push(20)\n",
        "st.push(30)\n",
        "st.push(10)\n",
        "st.push(50)\n",
        "print('Stack:')\n",
        "print_stack(st)\n",
        "print('------')\n",
        "reversed_stack=conditional_reverse(st)\n",
        "print('Conditional Reversed Stack:')\n",
        "print_stack(reversed_stack) # This stack contains 50, 10, 30, 20, 10 in this order whereas top element should be 10\n",
        "print('------')"
      ]
    }
  ],
  "metadata": {
    "colab": {
      "provenance": [],
      "include_colab_link": true
    },
    "kernelspec": {
      "display_name": "Python 3",
      "name": "python3"
    },
    "language_info": {
      "name": "python"
    }
  },
  "nbformat": 4,
  "nbformat_minor": 0
}